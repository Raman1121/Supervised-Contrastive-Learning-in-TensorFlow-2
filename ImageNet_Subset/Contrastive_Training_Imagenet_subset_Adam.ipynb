{
  "nbformat": 4,
  "nbformat_minor": 0,
  "metadata": {
    "colab": {
      "name": "Contrastive_Training_Imagenet_subset_Adam.ipynb",
      "provenance": []
    },
    "kernelspec": {
      "name": "python3",
      "display_name": "Python 3"
    },
    "accelerator": "GPU",
    "widgets": {
      "application/vnd.jupyter.widget-state+json": {
        "a08de8b1556e4d22be80c0cb2dd00aed": {
          "model_module": "@jupyter-widgets/controls",
          "model_name": "HBoxModel",
          "state": {
            "_view_name": "HBoxView",
            "_dom_classes": [],
            "_model_name": "HBoxModel",
            "_view_module": "@jupyter-widgets/controls",
            "_model_module_version": "1.5.0",
            "_view_count": null,
            "_view_module_version": "1.5.0",
            "box_style": "",
            "layout": "IPY_MODEL_e56faf2b71b24f77930768765954a474",
            "_model_module": "@jupyter-widgets/controls",
            "children": [
              "IPY_MODEL_98a7a2bbd29446108d44fff3ec92dde2",
              "IPY_MODEL_cf5b34f08827443bbd86f12ad83ae90f"
            ]
          }
        },
        "e56faf2b71b24f77930768765954a474": {
          "model_module": "@jupyter-widgets/base",
          "model_name": "LayoutModel",
          "state": {
            "_view_name": "LayoutView",
            "grid_template_rows": null,
            "right": null,
            "justify_content": null,
            "_view_module": "@jupyter-widgets/base",
            "overflow": null,
            "_model_module_version": "1.2.0",
            "_view_count": null,
            "flex_flow": null,
            "width": null,
            "min_width": null,
            "border": null,
            "align_items": null,
            "bottom": null,
            "_model_module": "@jupyter-widgets/base",
            "top": null,
            "grid_column": null,
            "overflow_y": null,
            "overflow_x": null,
            "grid_auto_flow": null,
            "grid_area": null,
            "grid_template_columns": null,
            "flex": null,
            "_model_name": "LayoutModel",
            "justify_items": null,
            "grid_row": null,
            "max_height": null,
            "align_content": null,
            "visibility": null,
            "align_self": null,
            "height": null,
            "min_height": null,
            "padding": null,
            "grid_auto_rows": null,
            "grid_gap": null,
            "max_width": null,
            "order": null,
            "_view_module_version": "1.2.0",
            "grid_template_areas": null,
            "object_position": null,
            "object_fit": null,
            "grid_auto_columns": null,
            "margin": null,
            "display": null,
            "left": null
          }
        },
        "98a7a2bbd29446108d44fff3ec92dde2": {
          "model_module": "@jupyter-widgets/controls",
          "model_name": "FloatProgressModel",
          "state": {
            "_view_name": "ProgressView",
            "style": "IPY_MODEL_2b00f4db008c42ed93fea163624dd90e",
            "_dom_classes": [],
            "description": "100%",
            "_model_name": "FloatProgressModel",
            "bar_style": "success",
            "max": 1250,
            "_view_module": "@jupyter-widgets/controls",
            "_model_module_version": "1.5.0",
            "value": 1250,
            "_view_count": null,
            "_view_module_version": "1.5.0",
            "orientation": "horizontal",
            "min": 0,
            "description_tooltip": null,
            "_model_module": "@jupyter-widgets/controls",
            "layout": "IPY_MODEL_99a86a588cd348faa823ca9591e327db"
          }
        },
        "cf5b34f08827443bbd86f12ad83ae90f": {
          "model_module": "@jupyter-widgets/controls",
          "model_name": "HTMLModel",
          "state": {
            "_view_name": "HTMLView",
            "style": "IPY_MODEL_e558f7079b0843869706736ae844e328",
            "_dom_classes": [],
            "description": "",
            "_model_name": "HTMLModel",
            "placeholder": "​",
            "_view_module": "@jupyter-widgets/controls",
            "_model_module_version": "1.5.0",
            "value": " 1250/1250 [00:06&lt;00:00, 180.44it/s]",
            "_view_count": null,
            "_view_module_version": "1.5.0",
            "description_tooltip": null,
            "_model_module": "@jupyter-widgets/controls",
            "layout": "IPY_MODEL_d129e2d4b78840578e8a5ef10d7bf6a2"
          }
        },
        "2b00f4db008c42ed93fea163624dd90e": {
          "model_module": "@jupyter-widgets/controls",
          "model_name": "ProgressStyleModel",
          "state": {
            "_view_name": "StyleView",
            "_model_name": "ProgressStyleModel",
            "description_width": "initial",
            "_view_module": "@jupyter-widgets/base",
            "_model_module_version": "1.5.0",
            "_view_count": null,
            "_view_module_version": "1.2.0",
            "bar_color": null,
            "_model_module": "@jupyter-widgets/controls"
          }
        },
        "99a86a588cd348faa823ca9591e327db": {
          "model_module": "@jupyter-widgets/base",
          "model_name": "LayoutModel",
          "state": {
            "_view_name": "LayoutView",
            "grid_template_rows": null,
            "right": null,
            "justify_content": null,
            "_view_module": "@jupyter-widgets/base",
            "overflow": null,
            "_model_module_version": "1.2.0",
            "_view_count": null,
            "flex_flow": null,
            "width": null,
            "min_width": null,
            "border": null,
            "align_items": null,
            "bottom": null,
            "_model_module": "@jupyter-widgets/base",
            "top": null,
            "grid_column": null,
            "overflow_y": null,
            "overflow_x": null,
            "grid_auto_flow": null,
            "grid_area": null,
            "grid_template_columns": null,
            "flex": null,
            "_model_name": "LayoutModel",
            "justify_items": null,
            "grid_row": null,
            "max_height": null,
            "align_content": null,
            "visibility": null,
            "align_self": null,
            "height": null,
            "min_height": null,
            "padding": null,
            "grid_auto_rows": null,
            "grid_gap": null,
            "max_width": null,
            "order": null,
            "_view_module_version": "1.2.0",
            "grid_template_areas": null,
            "object_position": null,
            "object_fit": null,
            "grid_auto_columns": null,
            "margin": null,
            "display": null,
            "left": null
          }
        },
        "e558f7079b0843869706736ae844e328": {
          "model_module": "@jupyter-widgets/controls",
          "model_name": "DescriptionStyleModel",
          "state": {
            "_view_name": "StyleView",
            "_model_name": "DescriptionStyleModel",
            "description_width": "",
            "_view_module": "@jupyter-widgets/base",
            "_model_module_version": "1.5.0",
            "_view_count": null,
            "_view_module_version": "1.2.0",
            "_model_module": "@jupyter-widgets/controls"
          }
        },
        "d129e2d4b78840578e8a5ef10d7bf6a2": {
          "model_module": "@jupyter-widgets/base",
          "model_name": "LayoutModel",
          "state": {
            "_view_name": "LayoutView",
            "grid_template_rows": null,
            "right": null,
            "justify_content": null,
            "_view_module": "@jupyter-widgets/base",
            "overflow": null,
            "_model_module_version": "1.2.0",
            "_view_count": null,
            "flex_flow": null,
            "width": null,
            "min_width": null,
            "border": null,
            "align_items": null,
            "bottom": null,
            "_model_module": "@jupyter-widgets/base",
            "top": null,
            "grid_column": null,
            "overflow_y": null,
            "overflow_x": null,
            "grid_auto_flow": null,
            "grid_area": null,
            "grid_template_columns": null,
            "flex": null,
            "_model_name": "LayoutModel",
            "justify_items": null,
            "grid_row": null,
            "max_height": null,
            "align_content": null,
            "visibility": null,
            "align_self": null,
            "height": null,
            "min_height": null,
            "padding": null,
            "grid_auto_rows": null,
            "grid_gap": null,
            "max_width": null,
            "order": null,
            "_view_module_version": "1.2.0",
            "grid_template_areas": null,
            "object_position": null,
            "object_fit": null,
            "grid_auto_columns": null,
            "margin": null,
            "display": null,
            "left": null
          }
        },
        "d51203928d554b9c94c4c49aa2d09e79": {
          "model_module": "@jupyter-widgets/controls",
          "model_name": "HBoxModel",
          "state": {
            "_view_name": "HBoxView",
            "_dom_classes": [],
            "_model_name": "HBoxModel",
            "_view_module": "@jupyter-widgets/controls",
            "_model_module_version": "1.5.0",
            "_view_count": null,
            "_view_module_version": "1.5.0",
            "box_style": "",
            "layout": "IPY_MODEL_fc94d9dc15dd424d97ec69c384d2305f",
            "_model_module": "@jupyter-widgets/controls",
            "children": [
              "IPY_MODEL_cfe526da5a974baa9725736ca693b2d9",
              "IPY_MODEL_dbd478076cc24a2682516eea814e6dcb"
            ]
          }
        },
        "fc94d9dc15dd424d97ec69c384d2305f": {
          "model_module": "@jupyter-widgets/base",
          "model_name": "LayoutModel",
          "state": {
            "_view_name": "LayoutView",
            "grid_template_rows": null,
            "right": null,
            "justify_content": null,
            "_view_module": "@jupyter-widgets/base",
            "overflow": null,
            "_model_module_version": "1.2.0",
            "_view_count": null,
            "flex_flow": null,
            "width": null,
            "min_width": null,
            "border": null,
            "align_items": null,
            "bottom": null,
            "_model_module": "@jupyter-widgets/base",
            "top": null,
            "grid_column": null,
            "overflow_y": null,
            "overflow_x": null,
            "grid_auto_flow": null,
            "grid_area": null,
            "grid_template_columns": null,
            "flex": null,
            "_model_name": "LayoutModel",
            "justify_items": null,
            "grid_row": null,
            "max_height": null,
            "align_content": null,
            "visibility": null,
            "align_self": null,
            "height": null,
            "min_height": null,
            "padding": null,
            "grid_auto_rows": null,
            "grid_gap": null,
            "max_width": null,
            "order": null,
            "_view_module_version": "1.2.0",
            "grid_template_areas": null,
            "object_position": null,
            "object_fit": null,
            "grid_auto_columns": null,
            "margin": null,
            "display": null,
            "left": null
          }
        },
        "cfe526da5a974baa9725736ca693b2d9": {
          "model_module": "@jupyter-widgets/controls",
          "model_name": "FloatProgressModel",
          "state": {
            "_view_name": "ProgressView",
            "style": "IPY_MODEL_1824dfe835664533866e866e9b768d71",
            "_dom_classes": [],
            "description": "100%",
            "_model_name": "FloatProgressModel",
            "bar_style": "success",
            "max": 250,
            "_view_module": "@jupyter-widgets/controls",
            "_model_module_version": "1.5.0",
            "value": 250,
            "_view_count": null,
            "_view_module_version": "1.5.0",
            "orientation": "horizontal",
            "min": 0,
            "description_tooltip": null,
            "_model_module": "@jupyter-widgets/controls",
            "layout": "IPY_MODEL_62137d1464474b228b5ac93889426855"
          }
        },
        "dbd478076cc24a2682516eea814e6dcb": {
          "model_module": "@jupyter-widgets/controls",
          "model_name": "HTMLModel",
          "state": {
            "_view_name": "HTMLView",
            "style": "IPY_MODEL_ed9b33c0450e4612a02ce9378533454a",
            "_dom_classes": [],
            "description": "",
            "_model_name": "HTMLModel",
            "placeholder": "​",
            "_view_module": "@jupyter-widgets/controls",
            "_model_module_version": "1.5.0",
            "value": " 250/250 [00:14&lt;00:00, 17.16it/s]",
            "_view_count": null,
            "_view_module_version": "1.5.0",
            "description_tooltip": null,
            "_model_module": "@jupyter-widgets/controls",
            "layout": "IPY_MODEL_4e82572abe7242d09f00f2963ef30984"
          }
        },
        "1824dfe835664533866e866e9b768d71": {
          "model_module": "@jupyter-widgets/controls",
          "model_name": "ProgressStyleModel",
          "state": {
            "_view_name": "StyleView",
            "_model_name": "ProgressStyleModel",
            "description_width": "initial",
            "_view_module": "@jupyter-widgets/base",
            "_model_module_version": "1.5.0",
            "_view_count": null,
            "_view_module_version": "1.2.0",
            "bar_color": null,
            "_model_module": "@jupyter-widgets/controls"
          }
        },
        "62137d1464474b228b5ac93889426855": {
          "model_module": "@jupyter-widgets/base",
          "model_name": "LayoutModel",
          "state": {
            "_view_name": "LayoutView",
            "grid_template_rows": null,
            "right": null,
            "justify_content": null,
            "_view_module": "@jupyter-widgets/base",
            "overflow": null,
            "_model_module_version": "1.2.0",
            "_view_count": null,
            "flex_flow": null,
            "width": null,
            "min_width": null,
            "border": null,
            "align_items": null,
            "bottom": null,
            "_model_module": "@jupyter-widgets/base",
            "top": null,
            "grid_column": null,
            "overflow_y": null,
            "overflow_x": null,
            "grid_auto_flow": null,
            "grid_area": null,
            "grid_template_columns": null,
            "flex": null,
            "_model_name": "LayoutModel",
            "justify_items": null,
            "grid_row": null,
            "max_height": null,
            "align_content": null,
            "visibility": null,
            "align_self": null,
            "height": null,
            "min_height": null,
            "padding": null,
            "grid_auto_rows": null,
            "grid_gap": null,
            "max_width": null,
            "order": null,
            "_view_module_version": "1.2.0",
            "grid_template_areas": null,
            "object_position": null,
            "object_fit": null,
            "grid_auto_columns": null,
            "margin": null,
            "display": null,
            "left": null
          }
        },
        "ed9b33c0450e4612a02ce9378533454a": {
          "model_module": "@jupyter-widgets/controls",
          "model_name": "DescriptionStyleModel",
          "state": {
            "_view_name": "StyleView",
            "_model_name": "DescriptionStyleModel",
            "description_width": "",
            "_view_module": "@jupyter-widgets/base",
            "_model_module_version": "1.5.0",
            "_view_count": null,
            "_view_module_version": "1.2.0",
            "_model_module": "@jupyter-widgets/controls"
          }
        },
        "4e82572abe7242d09f00f2963ef30984": {
          "model_module": "@jupyter-widgets/base",
          "model_name": "LayoutModel",
          "state": {
            "_view_name": "LayoutView",
            "grid_template_rows": null,
            "right": null,
            "justify_content": null,
            "_view_module": "@jupyter-widgets/base",
            "overflow": null,
            "_model_module_version": "1.2.0",
            "_view_count": null,
            "flex_flow": null,
            "width": null,
            "min_width": null,
            "border": null,
            "align_items": null,
            "bottom": null,
            "_model_module": "@jupyter-widgets/base",
            "top": null,
            "grid_column": null,
            "overflow_y": null,
            "overflow_x": null,
            "grid_auto_flow": null,
            "grid_area": null,
            "grid_template_columns": null,
            "flex": null,
            "_model_name": "LayoutModel",
            "justify_items": null,
            "grid_row": null,
            "max_height": null,
            "align_content": null,
            "visibility": null,
            "align_self": null,
            "height": null,
            "min_height": null,
            "padding": null,
            "grid_auto_rows": null,
            "grid_gap": null,
            "max_width": null,
            "order": null,
            "_view_module_version": "1.2.0",
            "grid_template_areas": null,
            "object_position": null,
            "object_fit": null,
            "grid_auto_columns": null,
            "margin": null,
            "display": null,
            "left": null
          }
        },
        "aada0d7549dd44d6bb8ff71451573270": {
          "model_module": "@jupyter-widgets/controls",
          "model_name": "HBoxModel",
          "state": {
            "_view_name": "HBoxView",
            "_dom_classes": [],
            "_model_name": "HBoxModel",
            "_view_module": "@jupyter-widgets/controls",
            "_model_module_version": "1.5.0",
            "_view_count": null,
            "_view_module_version": "1.5.0",
            "box_style": "",
            "layout": "IPY_MODEL_e9427e252079452aa713559ed3fc75f3",
            "_model_module": "@jupyter-widgets/controls",
            "children": [
              "IPY_MODEL_dda8d89afc374d39b5e6beb24d5a0c8c",
              "IPY_MODEL_710baafc97bc47b19a4fa76c874a43b5"
            ]
          }
        },
        "e9427e252079452aa713559ed3fc75f3": {
          "model_module": "@jupyter-widgets/base",
          "model_name": "LayoutModel",
          "state": {
            "_view_name": "LayoutView",
            "grid_template_rows": null,
            "right": null,
            "justify_content": null,
            "_view_module": "@jupyter-widgets/base",
            "overflow": null,
            "_model_module_version": "1.2.0",
            "_view_count": null,
            "flex_flow": null,
            "width": null,
            "min_width": null,
            "border": null,
            "align_items": null,
            "bottom": null,
            "_model_module": "@jupyter-widgets/base",
            "top": null,
            "grid_column": null,
            "overflow_y": null,
            "overflow_x": null,
            "grid_auto_flow": null,
            "grid_area": null,
            "grid_template_columns": null,
            "flex": null,
            "_model_name": "LayoutModel",
            "justify_items": null,
            "grid_row": null,
            "max_height": null,
            "align_content": null,
            "visibility": null,
            "align_self": null,
            "height": null,
            "min_height": null,
            "padding": null,
            "grid_auto_rows": null,
            "grid_gap": null,
            "max_width": null,
            "order": null,
            "_view_module_version": "1.2.0",
            "grid_template_areas": null,
            "object_position": null,
            "object_fit": null,
            "grid_auto_columns": null,
            "margin": null,
            "display": null,
            "left": null
          }
        },
        "dda8d89afc374d39b5e6beb24d5a0c8c": {
          "model_module": "@jupyter-widgets/controls",
          "model_name": "FloatProgressModel",
          "state": {
            "_view_name": "ProgressView",
            "style": "IPY_MODEL_e3c0bb279a99424ca7649687209109b5",
            "_dom_classes": [],
            "description": "100%",
            "_model_name": "FloatProgressModel",
            "bar_style": "success",
            "max": 60,
            "_view_module": "@jupyter-widgets/controls",
            "_model_module_version": "1.5.0",
            "value": 60,
            "_view_count": null,
            "_view_module_version": "1.5.0",
            "orientation": "horizontal",
            "min": 0,
            "description_tooltip": null,
            "_model_module": "@jupyter-widgets/controls",
            "layout": "IPY_MODEL_397476c0ebc04bc280cce103af6eb751"
          }
        },
        "710baafc97bc47b19a4fa76c874a43b5": {
          "model_module": "@jupyter-widgets/controls",
          "model_name": "HTMLModel",
          "state": {
            "_view_name": "HTMLView",
            "style": "IPY_MODEL_06a423c2950542499712c56a86f9af92",
            "_dom_classes": [],
            "description": "",
            "_model_name": "HTMLModel",
            "placeholder": "​",
            "_view_module": "@jupyter-widgets/controls",
            "_model_module_version": "1.5.0",
            "value": " 60/60 [05:46&lt;00:00,  5.77s/it]",
            "_view_count": null,
            "_view_module_version": "1.5.0",
            "description_tooltip": null,
            "_model_module": "@jupyter-widgets/controls",
            "layout": "IPY_MODEL_14eaeacdffb14757aa3758d54d170fe8"
          }
        },
        "e3c0bb279a99424ca7649687209109b5": {
          "model_module": "@jupyter-widgets/controls",
          "model_name": "ProgressStyleModel",
          "state": {
            "_view_name": "StyleView",
            "_model_name": "ProgressStyleModel",
            "description_width": "initial",
            "_view_module": "@jupyter-widgets/base",
            "_model_module_version": "1.5.0",
            "_view_count": null,
            "_view_module_version": "1.2.0",
            "bar_color": null,
            "_model_module": "@jupyter-widgets/controls"
          }
        },
        "397476c0ebc04bc280cce103af6eb751": {
          "model_module": "@jupyter-widgets/base",
          "model_name": "LayoutModel",
          "state": {
            "_view_name": "LayoutView",
            "grid_template_rows": null,
            "right": null,
            "justify_content": null,
            "_view_module": "@jupyter-widgets/base",
            "overflow": null,
            "_model_module_version": "1.2.0",
            "_view_count": null,
            "flex_flow": null,
            "width": null,
            "min_width": null,
            "border": null,
            "align_items": null,
            "bottom": null,
            "_model_module": "@jupyter-widgets/base",
            "top": null,
            "grid_column": null,
            "overflow_y": null,
            "overflow_x": null,
            "grid_auto_flow": null,
            "grid_area": null,
            "grid_template_columns": null,
            "flex": null,
            "_model_name": "LayoutModel",
            "justify_items": null,
            "grid_row": null,
            "max_height": null,
            "align_content": null,
            "visibility": null,
            "align_self": null,
            "height": null,
            "min_height": null,
            "padding": null,
            "grid_auto_rows": null,
            "grid_gap": null,
            "max_width": null,
            "order": null,
            "_view_module_version": "1.2.0",
            "grid_template_areas": null,
            "object_position": null,
            "object_fit": null,
            "grid_auto_columns": null,
            "margin": null,
            "display": null,
            "left": null
          }
        },
        "06a423c2950542499712c56a86f9af92": {
          "model_module": "@jupyter-widgets/controls",
          "model_name": "DescriptionStyleModel",
          "state": {
            "_view_name": "StyleView",
            "_model_name": "DescriptionStyleModel",
            "description_width": "",
            "_view_module": "@jupyter-widgets/base",
            "_model_module_version": "1.5.0",
            "_view_count": null,
            "_view_module_version": "1.2.0",
            "_model_module": "@jupyter-widgets/controls"
          }
        },
        "14eaeacdffb14757aa3758d54d170fe8": {
          "model_module": "@jupyter-widgets/base",
          "model_name": "LayoutModel",
          "state": {
            "_view_name": "LayoutView",
            "grid_template_rows": null,
            "right": null,
            "justify_content": null,
            "_view_module": "@jupyter-widgets/base",
            "overflow": null,
            "_model_module_version": "1.2.0",
            "_view_count": null,
            "flex_flow": null,
            "width": null,
            "min_width": null,
            "border": null,
            "align_items": null,
            "bottom": null,
            "_model_module": "@jupyter-widgets/base",
            "top": null,
            "grid_column": null,
            "overflow_y": null,
            "overflow_x": null,
            "grid_auto_flow": null,
            "grid_area": null,
            "grid_template_columns": null,
            "flex": null,
            "_model_name": "LayoutModel",
            "justify_items": null,
            "grid_row": null,
            "max_height": null,
            "align_content": null,
            "visibility": null,
            "align_self": null,
            "height": null,
            "min_height": null,
            "padding": null,
            "grid_auto_rows": null,
            "grid_gap": null,
            "max_width": null,
            "order": null,
            "_view_module_version": "1.2.0",
            "grid_template_areas": null,
            "object_position": null,
            "object_fit": null,
            "grid_auto_columns": null,
            "margin": null,
            "display": null,
            "left": null
          }
        },
        "ddf4dedd4e774dfe8dea8ce7aa7635fc": {
          "model_module": "@jupyter-widgets/controls",
          "model_name": "HBoxModel",
          "state": {
            "_view_name": "HBoxView",
            "_dom_classes": [],
            "_model_name": "HBoxModel",
            "_view_module": "@jupyter-widgets/controls",
            "_model_module_version": "1.5.0",
            "_view_count": null,
            "_view_module_version": "1.5.0",
            "box_style": "",
            "layout": "IPY_MODEL_1611e43a433849ca94f972edcae0e010",
            "_model_module": "@jupyter-widgets/controls",
            "children": [
              "IPY_MODEL_478db7a9c2b341f29d5d3c4025206be9",
              "IPY_MODEL_6ae23b01764f4831b192d0ec976212a8"
            ]
          }
        },
        "1611e43a433849ca94f972edcae0e010": {
          "model_module": "@jupyter-widgets/base",
          "model_name": "LayoutModel",
          "state": {
            "_view_name": "LayoutView",
            "grid_template_rows": null,
            "right": null,
            "justify_content": null,
            "_view_module": "@jupyter-widgets/base",
            "overflow": null,
            "_model_module_version": "1.2.0",
            "_view_count": null,
            "flex_flow": null,
            "width": null,
            "min_width": null,
            "border": null,
            "align_items": null,
            "bottom": null,
            "_model_module": "@jupyter-widgets/base",
            "top": null,
            "grid_column": null,
            "overflow_y": null,
            "overflow_x": null,
            "grid_auto_flow": null,
            "grid_area": null,
            "grid_template_columns": null,
            "flex": null,
            "_model_name": "LayoutModel",
            "justify_items": null,
            "grid_row": null,
            "max_height": null,
            "align_content": null,
            "visibility": null,
            "align_self": null,
            "height": null,
            "min_height": null,
            "padding": null,
            "grid_auto_rows": null,
            "grid_gap": null,
            "max_width": null,
            "order": null,
            "_view_module_version": "1.2.0",
            "grid_template_areas": null,
            "object_position": null,
            "object_fit": null,
            "grid_auto_columns": null,
            "margin": null,
            "display": null,
            "left": null
          }
        },
        "478db7a9c2b341f29d5d3c4025206be9": {
          "model_module": "@jupyter-widgets/controls",
          "model_name": "FloatProgressModel",
          "state": {
            "_view_name": "ProgressView",
            "style": "IPY_MODEL_47a0f9e06b2a4a4195ba016669d13604",
            "_dom_classes": [],
            "description": "100%",
            "_model_name": "FloatProgressModel",
            "bar_style": "success",
            "max": 100,
            "_view_module": "@jupyter-widgets/controls",
            "_model_module_version": "1.5.0",
            "value": 100,
            "_view_count": null,
            "_view_module_version": "1.5.0",
            "orientation": "horizontal",
            "min": 0,
            "description_tooltip": null,
            "_model_module": "@jupyter-widgets/controls",
            "layout": "IPY_MODEL_7d82beba5e944699b7db9a6e49f39f48"
          }
        },
        "6ae23b01764f4831b192d0ec976212a8": {
          "model_module": "@jupyter-widgets/controls",
          "model_name": "HTMLModel",
          "state": {
            "_view_name": "HTMLView",
            "style": "IPY_MODEL_3b8b50ac1839492bbd8652fb0b01d325",
            "_dom_classes": [],
            "description": "",
            "_model_name": "HTMLModel",
            "placeholder": "​",
            "_view_module": "@jupyter-widgets/controls",
            "_model_module_version": "1.5.0",
            "value": " 100/100 [08:08&lt;00:00,  4.88s/it]",
            "_view_count": null,
            "_view_module_version": "1.5.0",
            "description_tooltip": null,
            "_model_module": "@jupyter-widgets/controls",
            "layout": "IPY_MODEL_2b64dc6035fd450392cd7ef44a23ebc9"
          }
        },
        "47a0f9e06b2a4a4195ba016669d13604": {
          "model_module": "@jupyter-widgets/controls",
          "model_name": "ProgressStyleModel",
          "state": {
            "_view_name": "StyleView",
            "_model_name": "ProgressStyleModel",
            "description_width": "initial",
            "_view_module": "@jupyter-widgets/base",
            "_model_module_version": "1.5.0",
            "_view_count": null,
            "_view_module_version": "1.2.0",
            "bar_color": null,
            "_model_module": "@jupyter-widgets/controls"
          }
        },
        "7d82beba5e944699b7db9a6e49f39f48": {
          "model_module": "@jupyter-widgets/base",
          "model_name": "LayoutModel",
          "state": {
            "_view_name": "LayoutView",
            "grid_template_rows": null,
            "right": null,
            "justify_content": null,
            "_view_module": "@jupyter-widgets/base",
            "overflow": null,
            "_model_module_version": "1.2.0",
            "_view_count": null,
            "flex_flow": null,
            "width": null,
            "min_width": null,
            "border": null,
            "align_items": null,
            "bottom": null,
            "_model_module": "@jupyter-widgets/base",
            "top": null,
            "grid_column": null,
            "overflow_y": null,
            "overflow_x": null,
            "grid_auto_flow": null,
            "grid_area": null,
            "grid_template_columns": null,
            "flex": null,
            "_model_name": "LayoutModel",
            "justify_items": null,
            "grid_row": null,
            "max_height": null,
            "align_content": null,
            "visibility": null,
            "align_self": null,
            "height": null,
            "min_height": null,
            "padding": null,
            "grid_auto_rows": null,
            "grid_gap": null,
            "max_width": null,
            "order": null,
            "_view_module_version": "1.2.0",
            "grid_template_areas": null,
            "object_position": null,
            "object_fit": null,
            "grid_auto_columns": null,
            "margin": null,
            "display": null,
            "left": null
          }
        },
        "3b8b50ac1839492bbd8652fb0b01d325": {
          "model_module": "@jupyter-widgets/controls",
          "model_name": "DescriptionStyleModel",
          "state": {
            "_view_name": "StyleView",
            "_model_name": "DescriptionStyleModel",
            "description_width": "",
            "_view_module": "@jupyter-widgets/base",
            "_model_module_version": "1.5.0",
            "_view_count": null,
            "_view_module_version": "1.2.0",
            "_model_module": "@jupyter-widgets/controls"
          }
        },
        "2b64dc6035fd450392cd7ef44a23ebc9": {
          "model_module": "@jupyter-widgets/base",
          "model_name": "LayoutModel",
          "state": {
            "_view_name": "LayoutView",
            "grid_template_rows": null,
            "right": null,
            "justify_content": null,
            "_view_module": "@jupyter-widgets/base",
            "overflow": null,
            "_model_module_version": "1.2.0",
            "_view_count": null,
            "flex_flow": null,
            "width": null,
            "min_width": null,
            "border": null,
            "align_items": null,
            "bottom": null,
            "_model_module": "@jupyter-widgets/base",
            "top": null,
            "grid_column": null,
            "overflow_y": null,
            "overflow_x": null,
            "grid_auto_flow": null,
            "grid_area": null,
            "grid_template_columns": null,
            "flex": null,
            "_model_name": "LayoutModel",
            "justify_items": null,
            "grid_row": null,
            "max_height": null,
            "align_content": null,
            "visibility": null,
            "align_self": null,
            "height": null,
            "min_height": null,
            "padding": null,
            "grid_auto_rows": null,
            "grid_gap": null,
            "max_width": null,
            "order": null,
            "_view_module_version": "1.2.0",
            "grid_template_areas": null,
            "object_position": null,
            "object_fit": null,
            "grid_auto_columns": null,
            "margin": null,
            "display": null,
            "left": null
          }
        },
        "f13b6c260bf84349a19dd85bf03d1537": {
          "model_module": "@jupyter-widgets/controls",
          "model_name": "HBoxModel",
          "state": {
            "_view_name": "HBoxView",
            "_dom_classes": [],
            "_model_name": "HBoxModel",
            "_view_module": "@jupyter-widgets/controls",
            "_model_module_version": "1.5.0",
            "_view_count": null,
            "_view_module_version": "1.5.0",
            "box_style": "",
            "layout": "IPY_MODEL_9f814f4ee4114d82afa453d31eaec8a8",
            "_model_module": "@jupyter-widgets/controls",
            "children": [
              "IPY_MODEL_d6e078b67e0a4f10825a4f9c56a3a4a4",
              "IPY_MODEL_a3c9e5ce1a1347859a383b2b32e483f3"
            ]
          }
        },
        "9f814f4ee4114d82afa453d31eaec8a8": {
          "model_module": "@jupyter-widgets/base",
          "model_name": "LayoutModel",
          "state": {
            "_view_name": "LayoutView",
            "grid_template_rows": null,
            "right": null,
            "justify_content": null,
            "_view_module": "@jupyter-widgets/base",
            "overflow": null,
            "_model_module_version": "1.2.0",
            "_view_count": null,
            "flex_flow": null,
            "width": null,
            "min_width": null,
            "border": null,
            "align_items": null,
            "bottom": null,
            "_model_module": "@jupyter-widgets/base",
            "top": null,
            "grid_column": null,
            "overflow_y": null,
            "overflow_x": null,
            "grid_auto_flow": null,
            "grid_area": null,
            "grid_template_columns": null,
            "flex": null,
            "_model_name": "LayoutModel",
            "justify_items": null,
            "grid_row": null,
            "max_height": null,
            "align_content": null,
            "visibility": null,
            "align_self": null,
            "height": null,
            "min_height": null,
            "padding": null,
            "grid_auto_rows": null,
            "grid_gap": null,
            "max_width": null,
            "order": null,
            "_view_module_version": "1.2.0",
            "grid_template_areas": null,
            "object_position": null,
            "object_fit": null,
            "grid_auto_columns": null,
            "margin": null,
            "display": null,
            "left": null
          }
        },
        "d6e078b67e0a4f10825a4f9c56a3a4a4": {
          "model_module": "@jupyter-widgets/controls",
          "model_name": "FloatProgressModel",
          "state": {
            "_view_name": "ProgressView",
            "style": "IPY_MODEL_1edc796eff514cc9ab9196b776158bcc",
            "_dom_classes": [],
            "description": "100%",
            "_model_name": "FloatProgressModel",
            "bar_style": "success",
            "max": 60,
            "_view_module": "@jupyter-widgets/controls",
            "_model_module_version": "1.5.0",
            "value": 60,
            "_view_count": null,
            "_view_module_version": "1.5.0",
            "orientation": "horizontal",
            "min": 0,
            "description_tooltip": null,
            "_model_module": "@jupyter-widgets/controls",
            "layout": "IPY_MODEL_eb0238c1ea7047438233eab99bc5b3e9"
          }
        },
        "a3c9e5ce1a1347859a383b2b32e483f3": {
          "model_module": "@jupyter-widgets/controls",
          "model_name": "HTMLModel",
          "state": {
            "_view_name": "HTMLView",
            "style": "IPY_MODEL_f0782dfc7a7a4fe19b5cde03478e8587",
            "_dom_classes": [],
            "description": "",
            "_model_name": "HTMLModel",
            "placeholder": "​",
            "_view_module": "@jupyter-widgets/controls",
            "_model_module_version": "1.5.0",
            "value": " 60/60 [04:56&lt;00:00,  4.94s/it]",
            "_view_count": null,
            "_view_module_version": "1.5.0",
            "description_tooltip": null,
            "_model_module": "@jupyter-widgets/controls",
            "layout": "IPY_MODEL_e4dab87dc3494edd9173753a4b60a20f"
          }
        },
        "1edc796eff514cc9ab9196b776158bcc": {
          "model_module": "@jupyter-widgets/controls",
          "model_name": "ProgressStyleModel",
          "state": {
            "_view_name": "StyleView",
            "_model_name": "ProgressStyleModel",
            "description_width": "initial",
            "_view_module": "@jupyter-widgets/base",
            "_model_module_version": "1.5.0",
            "_view_count": null,
            "_view_module_version": "1.2.0",
            "bar_color": null,
            "_model_module": "@jupyter-widgets/controls"
          }
        },
        "eb0238c1ea7047438233eab99bc5b3e9": {
          "model_module": "@jupyter-widgets/base",
          "model_name": "LayoutModel",
          "state": {
            "_view_name": "LayoutView",
            "grid_template_rows": null,
            "right": null,
            "justify_content": null,
            "_view_module": "@jupyter-widgets/base",
            "overflow": null,
            "_model_module_version": "1.2.0",
            "_view_count": null,
            "flex_flow": null,
            "width": null,
            "min_width": null,
            "border": null,
            "align_items": null,
            "bottom": null,
            "_model_module": "@jupyter-widgets/base",
            "top": null,
            "grid_column": null,
            "overflow_y": null,
            "overflow_x": null,
            "grid_auto_flow": null,
            "grid_area": null,
            "grid_template_columns": null,
            "flex": null,
            "_model_name": "LayoutModel",
            "justify_items": null,
            "grid_row": null,
            "max_height": null,
            "align_content": null,
            "visibility": null,
            "align_self": null,
            "height": null,
            "min_height": null,
            "padding": null,
            "grid_auto_rows": null,
            "grid_gap": null,
            "max_width": null,
            "order": null,
            "_view_module_version": "1.2.0",
            "grid_template_areas": null,
            "object_position": null,
            "object_fit": null,
            "grid_auto_columns": null,
            "margin": null,
            "display": null,
            "left": null
          }
        },
        "f0782dfc7a7a4fe19b5cde03478e8587": {
          "model_module": "@jupyter-widgets/controls",
          "model_name": "DescriptionStyleModel",
          "state": {
            "_view_name": "StyleView",
            "_model_name": "DescriptionStyleModel",
            "description_width": "",
            "_view_module": "@jupyter-widgets/base",
            "_model_module_version": "1.5.0",
            "_view_count": null,
            "_view_module_version": "1.2.0",
            "_model_module": "@jupyter-widgets/controls"
          }
        },
        "e4dab87dc3494edd9173753a4b60a20f": {
          "model_module": "@jupyter-widgets/base",
          "model_name": "LayoutModel",
          "state": {
            "_view_name": "LayoutView",
            "grid_template_rows": null,
            "right": null,
            "justify_content": null,
            "_view_module": "@jupyter-widgets/base",
            "overflow": null,
            "_model_module_version": "1.2.0",
            "_view_count": null,
            "flex_flow": null,
            "width": null,
            "min_width": null,
            "border": null,
            "align_items": null,
            "bottom": null,
            "_model_module": "@jupyter-widgets/base",
            "top": null,
            "grid_column": null,
            "overflow_y": null,
            "overflow_x": null,
            "grid_auto_flow": null,
            "grid_area": null,
            "grid_template_columns": null,
            "flex": null,
            "_model_name": "LayoutModel",
            "justify_items": null,
            "grid_row": null,
            "max_height": null,
            "align_content": null,
            "visibility": null,
            "align_self": null,
            "height": null,
            "min_height": null,
            "padding": null,
            "grid_auto_rows": null,
            "grid_gap": null,
            "max_width": null,
            "order": null,
            "_view_module_version": "1.2.0",
            "grid_template_areas": null,
            "object_position": null,
            "object_fit": null,
            "grid_auto_columns": null,
            "margin": null,
            "display": null,
            "left": null
          }
        }
      }
    }
  },
  "cells": [
    {
      "cell_type": "markdown",
      "metadata": {
        "id": "0DBJgaXq_y89",
        "colab_type": "text"
      },
      "source": [
        "## References:\n",
        "- https://arxiv.org/pdf/2004.11362.pdf\n",
        "- https://towardsdatascience.com/contrastive-loss-for-supervised-classification-224ae35692e7"
      ]
    },
    {
      "cell_type": "markdown",
      "metadata": {
        "id": "qraO0CLY__Ji",
        "colab_type": "text"
      },
      "source": [
        "## Initial setup"
      ]
    },
    {
      "cell_type": "code",
      "metadata": {
        "id": "yknUs_MC_qjW",
        "colab_type": "code",
        "outputId": "c8986488-16d2-4b17-faad-8b9bba1a1ead",
        "colab": {
          "base_uri": "https://localhost:8080/",
          "height": 34
        }
      },
      "source": [
        "import tensorflow as tf\n",
        "print(tf.__version__)"
      ],
      "execution_count": 26,
      "outputs": [
        {
          "output_type": "stream",
          "text": [
            "2.2.0\n"
          ],
          "name": "stdout"
        }
      ]
    },
    {
      "cell_type": "code",
      "metadata": {
        "id": "uoT3XqqDABVG",
        "colab_type": "code",
        "colab": {}
      },
      "source": [
        "!pip install wandb\n",
        "import wandb\n",
        "wandb.login()"
      ],
      "execution_count": 0,
      "outputs": []
    },
    {
      "cell_type": "code",
      "metadata": {
        "id": "GLajcDGDBXbJ",
        "colab_type": "code",
        "colab": {}
      },
      "source": [
        "import os\n",
        "os.environ['WANDB_DISABLE_CODE'] = 'True'\n"
      ],
      "execution_count": 0,
      "outputs": []
    },
    {
      "cell_type": "code",
      "metadata": {
        "id": "DXJYNTkXADKX",
        "colab_type": "code",
        "colab": {}
      },
      "source": [
        "!wget https://raw.githubusercontent.com/wangz10/contrastive_loss/master/losses.py"
      ],
      "execution_count": 0,
      "outputs": []
    },
    {
      "cell_type": "code",
      "metadata": {
        "id": "vM4xEYhxAMc9",
        "colab_type": "code",
        "colab": {}
      },
      "source": [
        "from tensorflow.keras.layers import *\n",
        "from tensorflow.keras.models import *\n",
        "from tqdm.notebook import tqdm\n",
        "import tensorflow_datasets as tfds\n",
        "import matplotlib.pyplot as plt\n",
        "import numpy as np\n",
        "import losses\n",
        "import cv2\n",
        "from imutils import paths\n",
        "tf.random.set_seed(666)\n",
        "np.random.seed(666)\n",
        "\n"
      ],
      "execution_count": 0,
      "outputs": []
    },
    {
      "cell_type": "markdown",
      "metadata": {
        "id": "tEj-87mnAVr6",
        "colab_type": "text"
      },
      "source": [
        "# ImageNet Subset\n"
      ]
    },
    {
      "cell_type": "code",
      "metadata": {
        "id": "mccvzp8gAOj-",
        "colab_type": "code",
        "colab": {}
      },
      "source": [
        "!git clone https://github.com/thunderInfy/imagenet-5-categories\n"
      ],
      "execution_count": 0,
      "outputs": []
    },
    {
      "cell_type": "code",
      "metadata": {
        "id": "4nbTUUw8AYDZ",
        "colab_type": "code",
        "colab": {}
      },
      "source": [
        "# Train and test image paths\n",
        "train_images = list(paths.list_images(\"imagenet-5-categories/train\"))\n",
        "test_images = list(paths.list_images(\"imagenet-5-categories/test\"))\n"
      ],
      "execution_count": 0,
      "outputs": []
    },
    {
      "cell_type": "code",
      "metadata": {
        "id": "p-RhnY8BAdao",
        "colab_type": "code",
        "colab": {}
      },
      "source": [
        "def prepare_images(image_paths):\n",
        "    images = []\n",
        "    labels = []\n",
        "\n",
        "    for image in tqdm(image_paths):\n",
        "        image_pixels = plt.imread(image)\n",
        "        image_pixels = cv2.resize(image_pixels, (128,128))\n",
        "        image_pixels = image_pixels/255.\n",
        "\n",
        "        label = image.split(\"/\")[2].split(\"_\")[0]\n",
        "\n",
        "        images.append(image_pixels)\n",
        "        labels.append(label)\n",
        "\n",
        "    images = np.array(images)\n",
        "    labels = np.array(labels)\n",
        "\n",
        "    print(images.shape, labels.shape)\n",
        "\n",
        "    return images, labels"
      ],
      "execution_count": 0,
      "outputs": []
    },
    {
      "cell_type": "code",
      "metadata": {
        "id": "BNlw6--SAfra",
        "colab_type": "code",
        "outputId": "b53fa051-19b5-463b-e15d-0dfdf94681b5",
        "colab": {
          "base_uri": "https://localhost:8080/",
          "height": 148,
          "referenced_widgets": [
            "a08de8b1556e4d22be80c0cb2dd00aed",
            "e56faf2b71b24f77930768765954a474",
            "98a7a2bbd29446108d44fff3ec92dde2",
            "cf5b34f08827443bbd86f12ad83ae90f",
            "2b00f4db008c42ed93fea163624dd90e",
            "99a86a588cd348faa823ca9591e327db",
            "e558f7079b0843869706736ae844e328",
            "d129e2d4b78840578e8a5ef10d7bf6a2",
            "d51203928d554b9c94c4c49aa2d09e79",
            "fc94d9dc15dd424d97ec69c384d2305f",
            "cfe526da5a974baa9725736ca693b2d9",
            "dbd478076cc24a2682516eea814e6dcb",
            "1824dfe835664533866e866e9b768d71",
            "62137d1464474b228b5ac93889426855",
            "ed9b33c0450e4612a02ce9378533454a",
            "4e82572abe7242d09f00f2963ef30984"
          ]
        }
      },
      "source": [
        "\n",
        "X_train, y_train = prepare_images(train_images)\n",
        "X_test, y_test = prepare_images(test_images)"
      ],
      "execution_count": 76,
      "outputs": [
        {
          "output_type": "display_data",
          "data": {
            "application/vnd.jupyter.widget-view+json": {
              "model_id": "a08de8b1556e4d22be80c0cb2dd00aed",
              "version_minor": 0,
              "version_major": 2
            },
            "text/plain": [
              "HBox(children=(FloatProgress(value=0.0, max=1250.0), HTML(value='')))"
            ]
          },
          "metadata": {
            "tags": []
          }
        },
        {
          "output_type": "stream",
          "text": [
            "\n",
            "(1250, 128, 128, 3) (1250,)\n"
          ],
          "name": "stdout"
        },
        {
          "output_type": "display_data",
          "data": {
            "application/vnd.jupyter.widget-view+json": {
              "model_id": "d51203928d554b9c94c4c49aa2d09e79",
              "version_minor": 0,
              "version_major": 2
            },
            "text/plain": [
              "HBox(children=(FloatProgress(value=0.0, max=250.0), HTML(value='')))"
            ]
          },
          "metadata": {
            "tags": []
          }
        },
        {
          "output_type": "stream",
          "text": [
            "\n",
            "(250, 128, 128, 3) (250,)\n"
          ],
          "name": "stdout"
        }
      ]
    },
    {
      "cell_type": "code",
      "metadata": {
        "id": "ic7W94pHAiFe",
        "colab_type": "code",
        "colab": {}
      },
      "source": [
        "from sklearn import preprocessing\n",
        "le = preprocessing.LabelEncoder()\n",
        "y_train_enc = le.fit_transform(y_train)\n",
        "y_test_enc = le.transform(y_test)\n"
      ],
      "execution_count": 0,
      "outputs": []
    },
    {
      "cell_type": "code",
      "metadata": {
        "id": "TFrfLRBfAlcJ",
        "colab_type": "code",
        "colab": {}
      },
      "source": [
        "train_ds=tf.data.Dataset.from_tensor_slices((X_train,y_train_enc))\n",
        "validation_ds=tf.data.Dataset.from_tensor_slices((X_test,y_test_enc))"
      ],
      "execution_count": 0,
      "outputs": []
    },
    {
      "cell_type": "code",
      "metadata": {
        "id": "d0KiyOlvAqiH",
        "colab_type": "code",
        "colab": {}
      },
      "source": [
        "IMG_SHAPE = 128\n",
        "BS = 64\n",
        "AUTO = tf.data.experimental.AUTOTUNE\n",
        "train_ds = (\n",
        "    train_ds\n",
        "    .shuffle(100)\n",
        "    .batch(BS)\n",
        "    .prefetch(AUTO)\n",
        ")\n",
        "validation_ds = (\n",
        "    validation_ds\n",
        "    .shuffle(100)\n",
        "    .batch(BS)\n",
        "    .prefetch(AUTO)\n",
        ")"
      ],
      "execution_count": 0,
      "outputs": []
    },
    {
      "cell_type": "markdown",
      "metadata": {
        "id": "uqs25vl9A0gy",
        "colab_type": "text"
      },
      "source": [
        "## Model building"
      ]
    },
    {
      "cell_type": "code",
      "metadata": {
        "id": "rMN6R61VAxVZ",
        "colab_type": "code",
        "colab": {}
      },
      "source": [
        "# Reference: https://github.com/wangz10/contrastive_loss/blob/master/model.py\n",
        "class UnitNormLayer(tf.keras.layers.Layer):\n",
        "    '''Normalize vectors (euclidean norm) in batch to unit hypersphere.\n",
        "    '''\n",
        "    def __init__(self):\n",
        "        super(UnitNormLayer, self).__init__()\n",
        "\n",
        "    def call(self, input_tensor):\n",
        "        norm = tf.norm(input_tensor, axis=1)\n",
        "        return input_tensor / tf.reshape(norm, [-1, 1])"
      ],
      "execution_count": 0,
      "outputs": []
    },
    {
      "cell_type": "code",
      "metadata": {
        "id": "GyLzAbh0A23Z",
        "colab_type": "code",
        "colab": {}
      },
      "source": [
        "# Encoder Network\n",
        "def encoder_net():\n",
        "\tinputs = Input((IMG_SHAPE, IMG_SHAPE, 3))\n",
        "\tnormalization_layer = UnitNormLayer()\n",
        "\n",
        "\tencoder = tf.keras.applications.ResNet50(weights=None, include_top=False)\n",
        "\tencoder.trainable = True\n",
        "\n",
        "\tembeddings = encoder(inputs, training=True)\n",
        "\tembeddings = GlobalAveragePooling2D()(embeddings)\n",
        "\tnorm_embeddings = normalization_layer(embeddings)\n",
        "\n",
        "\tencoder_network = Model(inputs, norm_embeddings)\n",
        "\n",
        "\treturn encoder_network\n",
        "\n",
        "# Projector Network\n",
        "def projector_net():\n",
        "\tprojector = tf.keras.models.Sequential([\n",
        "\t\tDense(256, activation=\"relu\"),\n",
        "\t\tUnitNormLayer()\n",
        "\t])\n",
        "\n",
        "\treturn projector"
      ],
      "execution_count": 0,
      "outputs": []
    },
    {
      "cell_type": "markdown",
      "metadata": {
        "id": "6OV26XpaCqth",
        "colab_type": "text"
      },
      "source": [
        "## Adam with lr decay function"
      ]
    },
    {
      "cell_type": "markdown",
      "metadata": {
        "id": "WP16gtlRBItp",
        "colab_type": "text"
      },
      "source": [
        "### Training the encoder and the projector"
      ]
    },
    {
      "cell_type": "code",
      "metadata": {
        "id": "zkj8HhT-BBiq",
        "colab_type": "code",
        "colab": {}
      },
      "source": [
        "#SGD with lr decay function\n",
        "\n",
        "\n",
        "decay_steps = 1000\n",
        "lr_decayed_fn = tf.keras.experimental.CosineDecay(\n",
        "    initial_learning_rate=0.001, decay_steps=decay_steps)\n",
        "optimizer = tf.keras.optimizers.RMSprop(lr_decayed_fn)"
      ],
      "execution_count": 0,
      "outputs": []
    },
    {
      "cell_type": "code",
      "metadata": {
        "id": "bFzxZGgnBFDc",
        "colab_type": "code",
        "colab": {}
      },
      "source": [
        "encoder_r = encoder_net()\n",
        "projector_z = projector_net()\n",
        "\n",
        "@tf.function\n",
        "def train_step(images, labels):\n",
        "\twith tf.GradientTape() as tape:\n",
        "\t\tr = encoder_r(images, training=True)\n",
        "\t\tz = projector_z(r, training=True)\n",
        "\t\tloss = losses.max_margin_contrastive_loss(z, labels)\n",
        "\n",
        "\tgradients = tape.gradient(loss, \n",
        "\t\tencoder_r.trainable_variables + projector_z.trainable_variables)\n",
        "\toptimizer.apply_gradients(zip(gradients, \n",
        "\t\tencoder_r.trainable_variables + projector_z.trainable_variables))\n",
        "\n",
        "\treturn loss"
      ],
      "execution_count": 0,
      "outputs": []
    },
    {
      "cell_type": "code",
      "metadata": {
        "id": "sCHkj94fBbka",
        "colab_type": "code",
        "outputId": "06c7ae0f-c9d1-48e5-bfbd-be150dc00cfc",
        "colab": {
          "base_uri": "https://localhost:8080/",
          "height": 525,
          "referenced_widgets": [
            "aada0d7549dd44d6bb8ff71451573270",
            "e9427e252079452aa713559ed3fc75f3",
            "dda8d89afc374d39b5e6beb24d5a0c8c",
            "710baafc97bc47b19a4fa76c874a43b5",
            "e3c0bb279a99424ca7649687209109b5",
            "397476c0ebc04bc280cce103af6eb751",
            "06a423c2950542499712c56a86f9af92",
            "14eaeacdffb14757aa3758d54d170fe8"
          ]
        }
      },
      "source": [
        "import time\n",
        "\n",
        "wandb.init(project=\"scl\", entity=\"authors\",id='SCL_Adam_LRDECAY')\n",
        "EPOCHS = 60\n",
        "LOG_EVERY = 10\n",
        "train_loss_results = []\n",
        "\n",
        "start = time.time()\n",
        "for epoch in tqdm(range(EPOCHS)):\t\n",
        "\tepoch_loss_avg = tf.keras.metrics.Mean()\n",
        "\t\n",
        "\tfor (images, labels) in train_ds:\n",
        "\t\tloss = train_step(images, labels)\n",
        "\t\tepoch_loss_avg.update_state(loss) \n",
        "\n",
        "\ttrain_loss_results.append(epoch_loss_avg.result())\n",
        "\twandb.log({\"supervised_contrastive_loss\": epoch_loss_avg.result()})\n",
        "\n",
        "\tif epoch % LOG_EVERY == 0:\n",
        "\t\tprint(\"Epoch: {} Loss: {:.3f}\".format(epoch, epoch_loss_avg.result()))\n",
        "\n",
        "end = time.time()\n",
        "wandb.log({\"training_time\": end - start})\n",
        "\n",
        "with plt.xkcd():\n",
        "    plt.plot(train_loss_results)\n",
        "    plt.title(\"Supervised Contrastive Loss\")\n",
        "    plt.show()\n",
        "print(train_loss_results)"
      ],
      "execution_count": 84,
      "outputs": [
        {
          "output_type": "display_data",
          "data": {
            "text/html": [
              "\n",
              "                Logging results to <a href=\"https://wandb.com\" target=\"_blank\">Weights & Biases</a> <a href=\"https://docs.wandb.com/integrations/jupyter.html\" target=\"_blank\">(Documentation)</a>.<br/>\n",
              "                Project page: <a href=\"https://app.wandb.ai/authors/scl\" target=\"_blank\">https://app.wandb.ai/authors/scl</a><br/>\n",
              "                Run page: <a href=\"https://app.wandb.ai/authors/scl/runs/SCL_Adam_LRDECAY\" target=\"_blank\">https://app.wandb.ai/authors/scl/runs/SCL_Adam_LRDECAY</a><br/>\n",
              "            "
            ],
            "text/plain": [
              "<IPython.core.display.HTML object>"
            ]
          },
          "metadata": {
            "tags": []
          }
        },
        {
          "output_type": "display_data",
          "data": {
            "application/vnd.jupyter.widget-view+json": {
              "model_id": "aada0d7549dd44d6bb8ff71451573270",
              "version_minor": 0,
              "version_major": 2
            },
            "text/plain": [
              "HBox(children=(FloatProgress(value=0.0, max=60.0), HTML(value='')))"
            ]
          },
          "metadata": {
            "tags": []
          }
        },
        {
          "output_type": "stream",
          "text": [
            "Epoch: 0 Loss: 0.254\n",
            "Epoch: 10 Loss: 0.141\n",
            "Epoch: 20 Loss: 0.106\n",
            "Epoch: 30 Loss: 0.064\n",
            "Epoch: 40 Loss: 0.015\n",
            "Epoch: 50 Loss: 0.011\n",
            "\n"
          ],
          "name": "stdout"
        },
        {
          "output_type": "display_data",
          "data": {
            "image/png": "[encoded data removed]",
            "text/plain": [
              "<Figure size 432x288 with 1 Axes>"
            ]
          },
          "metadata": {
            "tags": []
          }
        },
        {
          "output_type": "stream",
          "text": [
            "[<tf.Tensor: shape=(), dtype=float32, numpy=0.25418776>, <tf.Tensor: shape=(), dtype=float32, numpy=0.17280793>, <tf.Tensor: shape=(), dtype=float32, numpy=0.16400596>, <tf.Tensor: shape=(), dtype=float32, numpy=0.17572327>, <tf.Tensor: shape=(), dtype=float32, numpy=0.16005397>, <tf.Tensor: shape=(), dtype=float32, numpy=0.16096541>, <tf.Tensor: shape=(), dtype=float32, numpy=0.15231578>, <tf.Tensor: shape=(), dtype=float32, numpy=0.14813322>, <tf.Tensor: shape=(), dtype=float32, numpy=0.14301175>, <tf.Tensor: shape=(), dtype=float32, numpy=0.1414721>, <tf.Tensor: shape=(), dtype=float32, numpy=0.141219>, <tf.Tensor: shape=(), dtype=float32, numpy=0.136118>, <tf.Tensor: shape=(), dtype=float32, numpy=0.13275762>, <tf.Tensor: shape=(), dtype=float32, numpy=0.12889624>, <tf.Tensor: shape=(), dtype=float32, numpy=0.12848012>, <tf.Tensor: shape=(), dtype=float32, numpy=0.12312877>, <tf.Tensor: shape=(), dtype=float32, numpy=0.11772348>, <tf.Tensor: shape=(), dtype=float32, numpy=0.11767693>, <tf.Tensor: shape=(), dtype=float32, numpy=0.11501972>, <tf.Tensor: shape=(), dtype=float32, numpy=0.105984315>, <tf.Tensor: shape=(), dtype=float32, numpy=0.106207825>, <tf.Tensor: shape=(), dtype=float32, numpy=0.10352763>, <tf.Tensor: shape=(), dtype=float32, numpy=0.09747922>, <tf.Tensor: shape=(), dtype=float32, numpy=0.094403714>, <tf.Tensor: shape=(), dtype=float32, numpy=0.09021588>, <tf.Tensor: shape=(), dtype=float32, numpy=0.09054853>, <tf.Tensor: shape=(), dtype=float32, numpy=0.083893895>, <tf.Tensor: shape=(), dtype=float32, numpy=0.07848997>, <tf.Tensor: shape=(), dtype=float32, numpy=0.07360423>, <tf.Tensor: shape=(), dtype=float32, numpy=0.067796536>, <tf.Tensor: shape=(), dtype=float32, numpy=0.063762285>, <tf.Tensor: shape=(), dtype=float32, numpy=0.055648424>, <tf.Tensor: shape=(), dtype=float32, numpy=0.053840168>, <tf.Tensor: shape=(), dtype=float32, numpy=0.044850897>, <tf.Tensor: shape=(), dtype=float32, numpy=0.040282257>, <tf.Tensor: shape=(), dtype=float32, numpy=0.030164853>, <tf.Tensor: shape=(), dtype=float32, numpy=0.035587303>, <tf.Tensor: shape=(), dtype=float32, numpy=0.022190986>, <tf.Tensor: shape=(), dtype=float32, numpy=0.021339968>, <tf.Tensor: shape=(), dtype=float32, numpy=0.021381326>, <tf.Tensor: shape=(), dtype=float32, numpy=0.015385714>, <tf.Tensor: shape=(), dtype=float32, numpy=0.016257625>, <tf.Tensor: shape=(), dtype=float32, numpy=0.013891275>, <tf.Tensor: shape=(), dtype=float32, numpy=0.015266295>, <tf.Tensor: shape=(), dtype=float32, numpy=0.013487031>, <tf.Tensor: shape=(), dtype=float32, numpy=0.011530783>, <tf.Tensor: shape=(), dtype=float32, numpy=0.011975816>, <tf.Tensor: shape=(), dtype=float32, numpy=0.010662293>, <tf.Tensor: shape=(), dtype=float32, numpy=0.010472464>, <tf.Tensor: shape=(), dtype=float32, numpy=0.011062508>, <tf.Tensor: shape=(), dtype=float32, numpy=0.010612314>, <tf.Tensor: shape=(), dtype=float32, numpy=0.010964367>, <tf.Tensor: shape=(), dtype=float32, numpy=0.011018661>, <tf.Tensor: shape=(), dtype=float32, numpy=0.009745457>, <tf.Tensor: shape=(), dtype=float32, numpy=0.010171053>, <tf.Tensor: shape=(), dtype=float32, numpy=0.0106607545>, <tf.Tensor: shape=(), dtype=float32, numpy=0.0107272975>, <tf.Tensor: shape=(), dtype=float32, numpy=0.011163759>, <tf.Tensor: shape=(), dtype=float32, numpy=0.010801787>, <tf.Tensor: shape=(), dtype=float32, numpy=0.010436272>]\n"
          ],
          "name": "stdout"
        }
      ]
    },
    {
      "cell_type": "markdown",
      "metadata": {
        "id": "Cvy9nGmSBrPs",
        "colab_type": "text"
      },
      "source": [
        "### Training the Supervised Model\n",
        "\n",
        "\n",
        "\n"
      ]
    },
    {
      "cell_type": "code",
      "metadata": {
        "id": "U0wR25Q7BkKt",
        "colab_type": "code",
        "colab": {}
      },
      "source": [
        "def supervised_model():\n",
        "\tinputs = Input((IMG_SHAPE, IMG_SHAPE, 3))\n",
        "\tencoder_r.trainable = False\n",
        "\n",
        "\tr = encoder_r(inputs, training=False)\n",
        "\toutputs = Dense(5, activation='softmax')(r)\n",
        "\n",
        "\tsupervised_model = Model(inputs, outputs)\n",
        "  \n",
        "\treturn supervised_model\n"
      ],
      "execution_count": 0,
      "outputs": []
    },
    {
      "cell_type": "code",
      "metadata": {
        "id": "rYAOULHrBvNv",
        "colab_type": "code",
        "colab": {}
      },
      "source": [
        "from wandb.keras import WandbCallback\n"
      ],
      "execution_count": 0,
      "outputs": []
    },
    {
      "cell_type": "code",
      "metadata": {
        "id": "bu_ZGIx1BwGR",
        "colab_type": "code",
        "colab": {}
      },
      "source": [
        "optimizer2 = tf.keras.optimizers.Adam(learning_rate=1e-3)"
      ],
      "execution_count": 0,
      "outputs": []
    },
    {
      "cell_type": "code",
      "metadata": {
        "id": "oFdJJ9yZBzoI",
        "colab_type": "code",
        "outputId": "698fc8ab-15a2-4fa2-fad0-b77eb873e33c",
        "colab": {
          "base_uri": "https://localhost:8080/",
          "height": 202
        }
      },
      "source": [
        "supervised_classifier = supervised_model()\n",
        "\n",
        "supervised_classifier.compile(optimizer=optimizer2,\n",
        "\tloss=tf.keras.losses.SparseCategoricalCrossentropy(),\n",
        "\tmetrics=[tf.keras.metrics.SparseCategoricalAccuracy()])\n",
        "\n",
        "es = tf.keras.callbacks.EarlyStopping(monitor=\"val_sparse_categorical_accuracy\", patience=2,\n",
        "\trestore_best_weights=True, verbose=2)\n",
        "\n",
        "wandb.init(project=\"scl\", entity=\"authors\", id='FSL_Adam_LRDECAY ')\n",
        "\n",
        "start = time.time()\n",
        "supervised_classifier.fit(train_ds,\n",
        "\tvalidation_data=validation_ds,\n",
        "\tepochs=100,\n",
        "\tcallbacks=[WandbCallback(),es])\n",
        "end = time.time()\n",
        "wandb.log({\"training_time\": end - start})"
      ],
      "execution_count": 88,
      "outputs": [
        {
          "output_type": "display_data",
          "data": {
            "text/html": [
              "\n",
              "                Logging results to <a href=\"https://wandb.com\" target=\"_blank\">Weights & Biases</a> <a href=\"https://docs.wandb.com/integrations/jupyter.html\" target=\"_blank\">(Documentation)</a>.<br/>\n",
              "                Project page: <a href=\"https://app.wandb.ai/authors/scl\" target=\"_blank\">https://app.wandb.ai/authors/scl</a><br/>\n",
              "                Run page: <a href=\"https://app.wandb.ai/authors/scl/runs/FSL_Adam_LRDECAY%20\" target=\"_blank\">https://app.wandb.ai/authors/scl/runs/FSL_Adam_LRDECAY%20</a><br/>\n",
              "            "
            ],
            "text/plain": [
              "<IPython.core.display.HTML object>"
            ]
          },
          "metadata": {
            "tags": []
          }
        },
        {
          "output_type": "stream",
          "text": [
            "Epoch 1/100\n",
            "20/20 [==============================] - 3s 150ms/step - loss: 1.4039 - sparse_categorical_accuracy: 0.8736 - val_loss: 1.3597 - val_sparse_categorical_accuracy: 0.6280\n",
            "Epoch 2/100\n",
            "20/20 [==============================] - 2s 103ms/step - loss: 1.0171 - sparse_categorical_accuracy: 0.9848 - val_loss: 1.1838 - val_sparse_categorical_accuracy: 0.6200\n",
            "Epoch 3/100\n",
            "19/20 [===========================>..] - ETA: 0s - loss: 0.7361 - sparse_categorical_accuracy: 0.9844Restoring model weights from the end of the best epoch.\n",
            "20/20 [==============================] - 3s 161ms/step - loss: 0.7331 - sparse_categorical_accuracy: 0.9848 - val_loss: 1.0779 - val_sparse_categorical_accuracy: 0.6240\n",
            "Epoch 00003: early stopping\n"
          ],
          "name": "stdout"
        }
      ]
    },
    {
      "cell_type": "markdown",
      "metadata": {
        "id": "e4sSP2OlEX1B",
        "colab_type": "text"
      },
      "source": [
        "## Adam with learning rate=1e-3"
      ]
    },
    {
      "cell_type": "markdown",
      "metadata": {
        "id": "oIaencIMEit0",
        "colab_type": "text"
      },
      "source": [
        "### Training the encoder and the projector"
      ]
    },
    {
      "cell_type": "code",
      "metadata": {
        "id": "rBxbk4RYE9wk",
        "colab_type": "code",
        "colab": {}
      },
      "source": [
        "optimizer3=tf.keras.optimizers.Adam(learning_rate=1e-3)"
      ],
      "execution_count": 0,
      "outputs": []
    },
    {
      "cell_type": "code",
      "metadata": {
        "id": "1E8SUWt9Dvng",
        "colab_type": "code",
        "colab": {}
      },
      "source": [
        "encoder_r = encoder_net()\n",
        "projector_z = projector_net()\n",
        "\n",
        "@tf.function\n",
        "def train_step(images, labels):\n",
        "\twith tf.GradientTape() as tape:\n",
        "\t\tr = encoder_r(images, training=True)\n",
        "\t\tz = projector_z(r, training=True)\n",
        "\t\tloss = losses.max_margin_contrastive_loss(z, labels)\n",
        "\n",
        "\tgradients = tape.gradient(loss, \n",
        "\t\tencoder_r.trainable_variables + projector_z.trainable_variables)\n",
        "\toptimizer3.apply_gradients(zip(gradients, \n",
        "\t\tencoder_r.trainable_variables + projector_z.trainable_variables))\n",
        "\n",
        "\treturn loss"
      ],
      "execution_count": 0,
      "outputs": []
    },
    {
      "cell_type": "code",
      "metadata": {
        "id": "vUzKj-H8Enc7",
        "colab_type": "code",
        "outputId": "0a381cba-dcbf-4d24-8ca6-0730a64ffc1e",
        "colab": {
          "base_uri": "https://localhost:8080/",
          "height": 592,
          "referenced_widgets": [
            "ddf4dedd4e774dfe8dea8ce7aa7635fc",
            "1611e43a433849ca94f972edcae0e010",
            "478db7a9c2b341f29d5d3c4025206be9",
            "6ae23b01764f4831b192d0ec976212a8",
            "47a0f9e06b2a4a4195ba016669d13604",
            "7d82beba5e944699b7db9a6e49f39f48",
            "3b8b50ac1839492bbd8652fb0b01d325",
            "2b64dc6035fd450392cd7ef44a23ebc9"
          ]
        }
      },
      "source": [
        "import time\n",
        "\n",
        "wandb.init(project=\"scl\", entity=\"authors\",id='SCL_Adam_LR_0.001_100')\n",
        "EPOCHS = 100\n",
        "LOG_EVERY = 10\n",
        "train_loss_results = []\n",
        "\n",
        "start = time.time()\n",
        "for epoch in tqdm(range(EPOCHS)):\t\n",
        "\tepoch_loss_avg = tf.keras.metrics.Mean()\n",
        "\t\n",
        "\tfor (images, labels) in train_ds:\n",
        "\t\tloss = train_step(images, labels)\n",
        "\t\tepoch_loss_avg.update_state(loss) \n",
        "\n",
        "\ttrain_loss_results.append(epoch_loss_avg.result())\n",
        "\twandb.log({\"supervised_contrastive_loss\": epoch_loss_avg.result()})\n",
        "\n",
        "\tif epoch % LOG_EVERY == 0:\n",
        "\t\tprint(\"Epoch: {} Loss: {:.3f}\".format(epoch, epoch_loss_avg.result()))\n",
        "\n",
        "end = time.time()\n",
        "wandb.log({\"training_time\": end - start})\n",
        "\n",
        "with plt.xkcd():\n",
        "    plt.plot(train_loss_results)\n",
        "    plt.title(\"Supervised Contrastive Loss\")\n",
        "    plt.show()\n",
        "print(train_loss_results)"
      ],
      "execution_count": 92,
      "outputs": [
        {
          "output_type": "display_data",
          "data": {
            "text/html": [
              "\n",
              "                Logging results to <a href=\"https://wandb.com\" target=\"_blank\">Weights & Biases</a> <a href=\"https://docs.wandb.com/integrations/jupyter.html\" target=\"_blank\">(Documentation)</a>.<br/>\n",
              "                Project page: <a href=\"https://app.wandb.ai/authors/scl\" target=\"_blank\">https://app.wandb.ai/authors/scl</a><br/>\n",
              "                Run page: <a href=\"https://app.wandb.ai/authors/scl/runs/SCL_Adam_LR_0.001_100\" target=\"_blank\">https://app.wandb.ai/authors/scl/runs/SCL_Adam_LR_0.001_100</a><br/>\n",
              "            "
            ],
            "text/plain": [
              "<IPython.core.display.HTML object>"
            ]
          },
          "metadata": {
            "tags": []
          }
        },
        {
          "output_type": "display_data",
          "data": {
            "application/vnd.jupyter.widget-view+json": {
              "model_id": "ddf4dedd4e774dfe8dea8ce7aa7635fc",
              "version_minor": 0,
              "version_major": 2
            },
            "text/plain": [
              "HBox(children=(FloatProgress(value=0.0), HTML(value='')))"
            ]
          },
          "metadata": {
            "tags": []
          }
        },
        {
          "output_type": "stream",
          "text": [
            "Epoch: 0 Loss: 0.220\n",
            "Epoch: 10 Loss: 0.103\n",
            "Epoch: 20 Loss: 0.081\n",
            "Epoch: 30 Loss: 0.037\n",
            "Epoch: 40 Loss: 0.016\n",
            "Epoch: 50 Loss: 0.012\n",
            "Epoch: 60 Loss: 0.011\n",
            "Epoch: 70 Loss: 0.011\n",
            "Epoch: 80 Loss: 0.007\n",
            "Epoch: 90 Loss: 0.006\n",
            "\n"
          ],
          "name": "stdout"
        },
        {
          "output_type": "display_data",
          "data": {
            "image/png": "[encoded data removed]",
            "text/plain": [
              "<Figure size 432x288 with 1 Axes>"
            ]
          },
          "metadata": {
            "tags": []
          }
        },
        {
          "output_type": "stream",
          "text": [
            "[<tf.Tensor: shape=(), dtype=float32, numpy=0.21988836>, <tf.Tensor: shape=(), dtype=float32, numpy=0.14853683>, <tf.Tensor: shape=(), dtype=float32, numpy=0.13579017>, <tf.Tensor: shape=(), dtype=float32, numpy=0.12744582>, <tf.Tensor: shape=(), dtype=float32, numpy=0.120279446>, <tf.Tensor: shape=(), dtype=float32, numpy=0.11585663>, <tf.Tensor: shape=(), dtype=float32, numpy=0.11240043>, <tf.Tensor: shape=(), dtype=float32, numpy=0.122045115>, <tf.Tensor: shape=(), dtype=float32, numpy=0.11680545>, <tf.Tensor: shape=(), dtype=float32, numpy=0.10179915>, <tf.Tensor: shape=(), dtype=float32, numpy=0.102698505>, <tf.Tensor: shape=(), dtype=float32, numpy=0.11420488>, <tf.Tensor: shape=(), dtype=float32, numpy=0.10046576>, <tf.Tensor: shape=(), dtype=float32, numpy=0.09200291>, <tf.Tensor: shape=(), dtype=float32, numpy=0.0869614>, <tf.Tensor: shape=(), dtype=float32, numpy=0.08287025>, <tf.Tensor: shape=(), dtype=float32, numpy=0.09260927>, <tf.Tensor: shape=(), dtype=float32, numpy=0.08206682>, <tf.Tensor: shape=(), dtype=float32, numpy=0.06953792>, <tf.Tensor: shape=(), dtype=float32, numpy=0.07651816>, <tf.Tensor: shape=(), dtype=float32, numpy=0.08093049>, <tf.Tensor: shape=(), dtype=float32, numpy=0.07031083>, <tf.Tensor: shape=(), dtype=float32, numpy=0.05225087>, <tf.Tensor: shape=(), dtype=float32, numpy=0.057513036>, <tf.Tensor: shape=(), dtype=float32, numpy=0.055018328>, <tf.Tensor: shape=(), dtype=float32, numpy=0.059221655>, <tf.Tensor: shape=(), dtype=float32, numpy=0.042392623>, <tf.Tensor: shape=(), dtype=float32, numpy=0.035927176>, <tf.Tensor: shape=(), dtype=float32, numpy=0.043732528>, <tf.Tensor: shape=(), dtype=float32, numpy=0.033585895>, <tf.Tensor: shape=(), dtype=float32, numpy=0.037150383>, <tf.Tensor: shape=(), dtype=float32, numpy=0.039044432>, <tf.Tensor: shape=(), dtype=float32, numpy=0.038420696>, <tf.Tensor: shape=(), dtype=float32, numpy=0.03494678>, <tf.Tensor: shape=(), dtype=float32, numpy=0.030706966>, <tf.Tensor: shape=(), dtype=float32, numpy=0.030867755>, <tf.Tensor: shape=(), dtype=float32, numpy=0.03307222>, <tf.Tensor: shape=(), dtype=float32, numpy=0.02531303>, <tf.Tensor: shape=(), dtype=float32, numpy=0.022437254>, <tf.Tensor: shape=(), dtype=float32, numpy=0.017361794>, <tf.Tensor: shape=(), dtype=float32, numpy=0.016114062>, <tf.Tensor: shape=(), dtype=float32, numpy=0.016647855>, <tf.Tensor: shape=(), dtype=float32, numpy=0.018216688>, <tf.Tensor: shape=(), dtype=float32, numpy=0.013658571>, <tf.Tensor: shape=(), dtype=float32, numpy=0.01436421>, <tf.Tensor: shape=(), dtype=float32, numpy=0.028459525>, <tf.Tensor: shape=(), dtype=float32, numpy=0.033300266>, <tf.Tensor: shape=(), dtype=float32, numpy=0.020500217>, <tf.Tensor: shape=(), dtype=float32, numpy=0.01933829>, <tf.Tensor: shape=(), dtype=float32, numpy=0.013073251>, <tf.Tensor: shape=(), dtype=float32, numpy=0.011752203>, <tf.Tensor: shape=(), dtype=float32, numpy=0.016988529>, <tf.Tensor: shape=(), dtype=float32, numpy=0.025053492>, <tf.Tensor: shape=(), dtype=float32, numpy=0.015050648>, <tf.Tensor: shape=(), dtype=float32, numpy=0.020252986>, <tf.Tensor: shape=(), dtype=float32, numpy=0.017483056>, <tf.Tensor: shape=(), dtype=float32, numpy=0.019713715>, <tf.Tensor: shape=(), dtype=float32, numpy=0.01602846>, <tf.Tensor: shape=(), dtype=float32, numpy=0.013237281>, <tf.Tensor: shape=(), dtype=float32, numpy=0.011095725>, <tf.Tensor: shape=(), dtype=float32, numpy=0.011021614>, <tf.Tensor: shape=(), dtype=float32, numpy=0.011401192>, <tf.Tensor: shape=(), dtype=float32, numpy=0.0143493535>, <tf.Tensor: shape=(), dtype=float32, numpy=0.011090772>, <tf.Tensor: shape=(), dtype=float32, numpy=0.014192757>, <tf.Tensor: shape=(), dtype=float32, numpy=0.012693742>, <tf.Tensor: shape=(), dtype=float32, numpy=0.015064897>, <tf.Tensor: shape=(), dtype=float32, numpy=0.010740897>, <tf.Tensor: shape=(), dtype=float32, numpy=0.012978325>, <tf.Tensor: shape=(), dtype=float32, numpy=0.009235552>, <tf.Tensor: shape=(), dtype=float32, numpy=0.010837044>, <tf.Tensor: shape=(), dtype=float32, numpy=0.01043103>, <tf.Tensor: shape=(), dtype=float32, numpy=0.013041362>, <tf.Tensor: shape=(), dtype=float32, numpy=0.013171703>, <tf.Tensor: shape=(), dtype=float32, numpy=0.012906233>, <tf.Tensor: shape=(), dtype=float32, numpy=0.009559202>, <tf.Tensor: shape=(), dtype=float32, numpy=0.009490086>, <tf.Tensor: shape=(), dtype=float32, numpy=0.008072432>, <tf.Tensor: shape=(), dtype=float32, numpy=0.008251008>, <tf.Tensor: shape=(), dtype=float32, numpy=0.0060284147>, <tf.Tensor: shape=(), dtype=float32, numpy=0.0066568516>, <tf.Tensor: shape=(), dtype=float32, numpy=0.0066570565>, <tf.Tensor: shape=(), dtype=float32, numpy=0.0052375733>, <tf.Tensor: shape=(), dtype=float32, numpy=0.00444319>, <tf.Tensor: shape=(), dtype=float32, numpy=0.0039153034>, <tf.Tensor: shape=(), dtype=float32, numpy=0.0072900234>, <tf.Tensor: shape=(), dtype=float32, numpy=0.01163871>, <tf.Tensor: shape=(), dtype=float32, numpy=0.0118910195>, <tf.Tensor: shape=(), dtype=float32, numpy=0.010792525>, <tf.Tensor: shape=(), dtype=float32, numpy=0.014210199>, <tf.Tensor: shape=(), dtype=float32, numpy=0.006008765>, <tf.Tensor: shape=(), dtype=float32, numpy=0.011329992>, <tf.Tensor: shape=(), dtype=float32, numpy=0.009504497>, <tf.Tensor: shape=(), dtype=float32, numpy=0.009559839>, <tf.Tensor: shape=(), dtype=float32, numpy=0.012462358>, <tf.Tensor: shape=(), dtype=float32, numpy=0.018408576>, <tf.Tensor: shape=(), dtype=float32, numpy=0.019298933>, <tf.Tensor: shape=(), dtype=float32, numpy=0.016504396>, <tf.Tensor: shape=(), dtype=float32, numpy=0.016178917>, <tf.Tensor: shape=(), dtype=float32, numpy=0.009484941>]\n"
          ],
          "name": "stdout"
        }
      ]
    },
    {
      "cell_type": "markdown",
      "metadata": {
        "id": "ZKYh5WXpFY02",
        "colab_type": "text"
      },
      "source": [
        "### Training the Supervised Model\n"
      ]
    },
    {
      "cell_type": "code",
      "metadata": {
        "id": "mUV1mJQxFs5g",
        "colab_type": "code",
        "colab": {}
      },
      "source": [
        "def supervised_model():\n",
        "\tinputs = Input((IMG_SHAPE, IMG_SHAPE, 3))\n",
        "\tencoder_r.trainable = False\n",
        "\n",
        "\tr = encoder_r(inputs, training=False)\n",
        "\toutputs = Dense(5, activation='softmax')(r)\n",
        "\n",
        "\tsupervised_model = Model(inputs, outputs)\n",
        "  \n",
        "\treturn supervised_model\n"
      ],
      "execution_count": 0,
      "outputs": []
    },
    {
      "cell_type": "code",
      "metadata": {
        "id": "DNOeI-ErFMAx",
        "colab_type": "code",
        "outputId": "f748677d-db33-4819-a292-3abd801e8ffb",
        "colab": {
          "base_uri": "https://localhost:8080/",
          "height": 302
        }
      },
      "source": [
        "supervised_classifier = supervised_model()\n",
        "\n",
        "supervised_classifier.compile(optimizer=optimizer2,\n",
        "\tloss=tf.keras.losses.SparseCategoricalCrossentropy(),\n",
        "\tmetrics=[tf.keras.metrics.SparseCategoricalAccuracy()])\n",
        "\n",
        "es = tf.keras.callbacks.EarlyStopping(monitor=\"val_sparse_categorical_accuracy\", patience=2,\n",
        "\trestore_best_weights=True, verbose=2)\n",
        "\n",
        "wandb.init(project=\"scl\", entity=\"authors\", id='FSL_Adam_LR_0.001')\n",
        "\n",
        "start = time.time()\n",
        "supervised_classifier.fit(train_ds,\n",
        "\tvalidation_data=validation_ds,\n",
        "\tepochs=100,\n",
        "\tcallbacks=[WandbCallback(),es])\n",
        "end = time.time()\n",
        "wandb.log({\"training_time\": end - start})"
      ],
      "execution_count": 94,
      "outputs": [
        {
          "output_type": "display_data",
          "data": {
            "text/html": [
              "\n",
              "                Logging results to <a href=\"https://wandb.com\" target=\"_blank\">Weights & Biases</a> <a href=\"https://docs.wandb.com/integrations/jupyter.html\" target=\"_blank\">(Documentation)</a>.<br/>\n",
              "                Project page: <a href=\"https://app.wandb.ai/authors/scl\" target=\"_blank\">https://app.wandb.ai/authors/scl</a><br/>\n",
              "                Run page: <a href=\"https://app.wandb.ai/authors/scl/runs/FSL_Adam_LR_0.001\" target=\"_blank\">https://app.wandb.ai/authors/scl/runs/FSL_Adam_LR_0.001</a><br/>\n",
              "            "
            ],
            "text/plain": [
              "<IPython.core.display.HTML object>"
            ]
          },
          "metadata": {
            "tags": []
          }
        },
        {
          "output_type": "stream",
          "text": [
            "Epoch 1/100\n",
            "20/20 [==============================] - 3s 152ms/step - loss: 1.3128 - sparse_categorical_accuracy: 0.9088 - val_loss: 1.2464 - val_sparse_categorical_accuracy: 0.6280\n",
            "Epoch 2/100\n",
            "20/20 [==============================] - 2s 108ms/step - loss: 0.7306 - sparse_categorical_accuracy: 0.9800 - val_loss: 1.0713 - val_sparse_categorical_accuracy: 0.6280\n",
            "Epoch 3/100\n",
            "20/20 [==============================] - 2s 117ms/step - loss: 0.4370 - sparse_categorical_accuracy: 0.9800 - val_loss: 1.0296 - val_sparse_categorical_accuracy: 0.6320\n",
            "Epoch 4/100\n",
            "20/20 [==============================] - 2s 104ms/step - loss: 0.3023 - sparse_categorical_accuracy: 0.9808 - val_loss: 1.0341 - val_sparse_categorical_accuracy: 0.6400\n",
            "Epoch 5/100\n",
            "20/20 [==============================] - 2s 84ms/step - loss: 0.2333 - sparse_categorical_accuracy: 0.9808 - val_loss: 1.0522 - val_sparse_categorical_accuracy: 0.6400\n",
            "Epoch 6/100\n",
            "19/20 [===========================>..] - ETA: 0s - loss: 0.1948 - sparse_categorical_accuracy: 0.9803Restoring model weights from the end of the best epoch.\n",
            "20/20 [==============================] - 2s 90ms/step - loss: 0.1927 - sparse_categorical_accuracy: 0.9808 - val_loss: 1.0748 - val_sparse_categorical_accuracy: 0.6400\n",
            "Epoch 00006: early stopping\n"
          ],
          "name": "stdout"
        }
      ]
    },
    {
      "cell_type": "markdown",
      "metadata": {
        "id": "USFctJoqJl9k",
        "colab_type": "text"
      },
      "source": [
        "# Adding augmentation"
      ]
    },
    {
      "cell_type": "markdown",
      "metadata": {
        "id": "yW73ISc8Jo5g",
        "colab_type": "text"
      },
      "source": [
        "### Preparing dataset"
      ]
    },
    {
      "cell_type": "code",
      "metadata": {
        "id": "Odg_INO0J1OD",
        "colab_type": "code",
        "colab": {}
      },
      "source": [
        "#Random Augmentations\n",
        "\n",
        "def aug(image, label):\n",
        "  x=tf.image.random_brightness(image,max_delta=0)\n",
        "  x=tf.image.random_contrast(x,lower=0.2, upper=1.8)\n",
        "  x = tf.image.random_saturation(x, lower=0.2, upper=1.5)\n",
        "  x = tf.image.random_hue(x, max_delta=0.4)\n",
        "  x = tf.clip_by_value(x, 0, 1)\n",
        "\n",
        "  return x, label"
      ],
      "execution_count": 0,
      "outputs": []
    },
    {
      "cell_type": "code",
      "metadata": {
        "id": "relHo54GJoG2",
        "colab_type": "code",
        "colab": {}
      },
      "source": [
        "train_ds=tf.data.Dataset.from_tensor_slices((X_train,y_train_enc))\n",
        "validation_ds=tf.data.Dataset.from_tensor_slices((X_test,y_test_enc))"
      ],
      "execution_count": 0,
      "outputs": []
    },
    {
      "cell_type": "code",
      "metadata": {
        "id": "fXCOB2zLJxt1",
        "colab_type": "code",
        "colab": {}
      },
      "source": [
        "IMG_SHAPE = 128\n",
        "BS = 64\n",
        "AUTO = tf.data.experimental.AUTOTUNE\n",
        "train_ds = (\n",
        "    train_ds\n",
        "    .shuffle(100)\n",
        "    .batch(BS)\n",
        "    .map(aug, num_parallel_calls=AUTO)\n",
        "    .prefetch(AUTO)\n",
        ")\n",
        "validation_ds = (\n",
        "    validation_ds\n",
        "    .shuffle(100)\n",
        "    .batch(BS)\n",
        "    .prefetch(AUTO)\n",
        ")"
      ],
      "execution_count": 0,
      "outputs": []
    },
    {
      "cell_type": "markdown",
      "metadata": {
        "id": "DdDEwebwJ9st",
        "colab_type": "text"
      },
      "source": [
        "### Training the encoder and decoder"
      ]
    },
    {
      "cell_type": "code",
      "metadata": {
        "id": "qosfWyViJ_-m",
        "colab_type": "code",
        "colab": {}
      },
      "source": [
        "decay_steps = 1000\n",
        "lr_decayed_fn = tf.keras.experimental.CosineDecay(\n",
        "    initial_learning_rate=0.001, decay_steps=decay_steps)\n",
        "optimizer = tf.keras.optimizers.Adam(lr_decayed_fn)"
      ],
      "execution_count": 0,
      "outputs": []
    },
    {
      "cell_type": "code",
      "metadata": {
        "id": "2Q-f9bAbKM5a",
        "colab_type": "code",
        "colab": {}
      },
      "source": [
        "encoder_r = encoder_net()\n",
        "projector_z = projector_net()\n",
        "\n",
        "@tf.function\n",
        "def train_step(images, labels):\n",
        "\twith tf.GradientTape() as tape:\n",
        "\t\tr = encoder_r(images, training=True)\n",
        "\t\tz = projector_z(r, training=True)\n",
        "\t\tloss = losses.max_margin_contrastive_loss(z, labels)\n",
        "\n",
        "\tgradients = tape.gradient(loss, \n",
        "\t\tencoder_r.trainable_variables + projector_z.trainable_variables)\n",
        "\toptimizer.apply_gradients(zip(gradients, \n",
        "\t\tencoder_r.trainable_variables + projector_z.trainable_variables))\n",
        "\n",
        "\treturn loss"
      ],
      "execution_count": 0,
      "outputs": []
    },
    {
      "cell_type": "code",
      "metadata": {
        "id": "pIaC4P-5KWsy",
        "colab_type": "code",
        "outputId": "19975164-6dbd-4c3f-dc27-393fda7d454d",
        "colab": {
          "base_uri": "https://localhost:8080/",
          "height": 525,
          "referenced_widgets": [
            "f13b6c260bf84349a19dd85bf03d1537",
            "9f814f4ee4114d82afa453d31eaec8a8",
            "d6e078b67e0a4f10825a4f9c56a3a4a4",
            "a3c9e5ce1a1347859a383b2b32e483f3",
            "1edc796eff514cc9ab9196b776158bcc",
            "eb0238c1ea7047438233eab99bc5b3e9",
            "f0782dfc7a7a4fe19b5cde03478e8587",
            "e4dab87dc3494edd9173753a4b60a20f"
          ]
        }
      },
      "source": [
        "import time\n",
        "\n",
        "wandb.init(project=\"scl\", entity=\"authors\", id='SCL_Adam_LRDECAY_AUG')\n",
        "EPOCHS = 60\n",
        "LOG_EVERY = 10\n",
        "train_loss_results = []\n",
        "\n",
        "start = time.time()\n",
        "for epoch in tqdm(range(EPOCHS)):\t\n",
        "\tepoch_loss_avg = tf.keras.metrics.Mean()\n",
        "\t\n",
        "\tfor (images, labels) in train_ds:\n",
        "\t\tloss = train_step(images, labels)\n",
        "\t\tepoch_loss_avg.update_state(loss) \n",
        "\n",
        "\ttrain_loss_results.append(epoch_loss_avg.result())\n",
        "\twandb.log({\"supervised_contrastive_loss\": epoch_loss_avg.result()})\n",
        "\n",
        "\tif epoch % LOG_EVERY == 0:\n",
        "\t\tprint(\"Epoch: {} Loss: {:.3f}\".format(epoch, epoch_loss_avg.result()))\n",
        "\n",
        "end = time.time()\n",
        "wandb.log({\"training_time\": end - start})\n",
        "\n",
        "with plt.xkcd():\n",
        "    plt.plot(train_loss_results)\n",
        "    plt.title(\"Supervised Contrastive Loss\")\n",
        "    plt.show()\n",
        "print(train_loss_results)"
      ],
      "execution_count": 100,
      "outputs": [
        {
          "output_type": "display_data",
          "data": {
            "text/html": [
              "\n",
              "                Logging results to <a href=\"https://wandb.com\" target=\"_blank\">Weights & Biases</a> <a href=\"https://docs.wandb.com/integrations/jupyter.html\" target=\"_blank\">(Documentation)</a>.<br/>\n",
              "                Project page: <a href=\"https://app.wandb.ai/authors/scl\" target=\"_blank\">https://app.wandb.ai/authors/scl</a><br/>\n",
              "                Run page: <a href=\"https://app.wandb.ai/authors/scl/runs/SCL_Adam_LRDECAY_AUG\" target=\"_blank\">https://app.wandb.ai/authors/scl/runs/SCL_Adam_LRDECAY_AUG</a><br/>\n",
              "            "
            ],
            "text/plain": [
              "<IPython.core.display.HTML object>"
            ]
          },
          "metadata": {
            "tags": []
          }
        },
        {
          "output_type": "display_data",
          "data": {
            "application/vnd.jupyter.widget-view+json": {
              "model_id": "f13b6c260bf84349a19dd85bf03d1537",
              "version_minor": 0,
              "version_major": 2
            },
            "text/plain": [
              "HBox(children=(FloatProgress(value=0.0, max=60.0), HTML(value='')))"
            ]
          },
          "metadata": {
            "tags": []
          }
        },
        {
          "output_type": "stream",
          "text": [
            "Epoch: 0 Loss: 0.243\n",
            "Epoch: 10 Loss: 0.132\n",
            "Epoch: 20 Loss: 0.094\n",
            "Epoch: 30 Loss: 0.039\n",
            "Epoch: 40 Loss: 0.006\n",
            "Epoch: 50 Loss: 0.005\n",
            "\n"
          ],
          "name": "stdout"
        },
        {
          "output_type": "display_data",
          "data": {
            "image/png": "[encoded data removed]",
            "text/plain": [
              "<Figure size 432x288 with 1 Axes>"
            ]
          },
          "metadata": {
            "tags": []
          }
        },
        {
          "output_type": "stream",
          "text": [
            "[<tf.Tensor: shape=(), dtype=float32, numpy=0.24336703>, <tf.Tensor: shape=(), dtype=float32, numpy=0.18270658>, <tf.Tensor: shape=(), dtype=float32, numpy=0.17384906>, <tf.Tensor: shape=(), dtype=float32, numpy=0.16619673>, <tf.Tensor: shape=(), dtype=float32, numpy=0.15796715>, <tf.Tensor: shape=(), dtype=float32, numpy=0.15217885>, <tf.Tensor: shape=(), dtype=float32, numpy=0.1432936>, <tf.Tensor: shape=(), dtype=float32, numpy=0.13781896>, <tf.Tensor: shape=(), dtype=float32, numpy=0.13379517>, <tf.Tensor: shape=(), dtype=float32, numpy=0.13375352>, <tf.Tensor: shape=(), dtype=float32, numpy=0.13194692>, <tf.Tensor: shape=(), dtype=float32, numpy=0.1285313>, <tf.Tensor: shape=(), dtype=float32, numpy=0.121216774>, <tf.Tensor: shape=(), dtype=float32, numpy=0.11921774>, <tf.Tensor: shape=(), dtype=float32, numpy=0.116507426>, <tf.Tensor: shape=(), dtype=float32, numpy=0.11282544>, <tf.Tensor: shape=(), dtype=float32, numpy=0.113572076>, <tf.Tensor: shape=(), dtype=float32, numpy=0.105747424>, <tf.Tensor: shape=(), dtype=float32, numpy=0.10072164>, <tf.Tensor: shape=(), dtype=float32, numpy=0.10322038>, <tf.Tensor: shape=(), dtype=float32, numpy=0.09411385>, <tf.Tensor: shape=(), dtype=float32, numpy=0.088188395>, <tf.Tensor: shape=(), dtype=float32, numpy=0.09131615>, <tf.Tensor: shape=(), dtype=float32, numpy=0.08506529>, <tf.Tensor: shape=(), dtype=float32, numpy=0.0842859>, <tf.Tensor: shape=(), dtype=float32, numpy=0.07656028>, <tf.Tensor: shape=(), dtype=float32, numpy=0.068684936>, <tf.Tensor: shape=(), dtype=float32, numpy=0.061564784>, <tf.Tensor: shape=(), dtype=float32, numpy=0.050707497>, <tf.Tensor: shape=(), dtype=float32, numpy=0.042276703>, <tf.Tensor: shape=(), dtype=float32, numpy=0.03921249>, <tf.Tensor: shape=(), dtype=float32, numpy=0.030030703>, <tf.Tensor: shape=(), dtype=float32, numpy=0.03340895>, <tf.Tensor: shape=(), dtype=float32, numpy=0.027142745>, <tf.Tensor: shape=(), dtype=float32, numpy=0.018948551>, <tf.Tensor: shape=(), dtype=float32, numpy=0.018469889>, <tf.Tensor: shape=(), dtype=float32, numpy=0.0136651825>, <tf.Tensor: shape=(), dtype=float32, numpy=0.010528502>, <tf.Tensor: shape=(), dtype=float32, numpy=0.0101643875>, <tf.Tensor: shape=(), dtype=float32, numpy=0.010751301>, <tf.Tensor: shape=(), dtype=float32, numpy=0.006122619>, <tf.Tensor: shape=(), dtype=float32, numpy=0.0059357537>, <tf.Tensor: shape=(), dtype=float32, numpy=0.00627492>, <tf.Tensor: shape=(), dtype=float32, numpy=0.005804257>, <tf.Tensor: shape=(), dtype=float32, numpy=0.0045701507>, <tf.Tensor: shape=(), dtype=float32, numpy=0.0046089636>, <tf.Tensor: shape=(), dtype=float32, numpy=0.005028271>, <tf.Tensor: shape=(), dtype=float32, numpy=0.005465356>, <tf.Tensor: shape=(), dtype=float32, numpy=0.0046784515>, <tf.Tensor: shape=(), dtype=float32, numpy=0.0044995393>, <tf.Tensor: shape=(), dtype=float32, numpy=0.0049578175>, <tf.Tensor: shape=(), dtype=float32, numpy=0.0042142873>, <tf.Tensor: shape=(), dtype=float32, numpy=0.0057367887>, <tf.Tensor: shape=(), dtype=float32, numpy=0.0040757237>, <tf.Tensor: shape=(), dtype=float32, numpy=0.004258274>, <tf.Tensor: shape=(), dtype=float32, numpy=0.0041829315>, <tf.Tensor: shape=(), dtype=float32, numpy=0.0044242227>, <tf.Tensor: shape=(), dtype=float32, numpy=0.0059293564>, <tf.Tensor: shape=(), dtype=float32, numpy=0.00448282>, <tf.Tensor: shape=(), dtype=float32, numpy=0.0046454035>]\n"
          ],
          "name": "stdout"
        }
      ]
    },
    {
      "cell_type": "markdown",
      "metadata": {
        "id": "hmhwBtwHKMZY",
        "colab_type": "text"
      },
      "source": [
        "### Trainig Supervised model"
      ]
    },
    {
      "cell_type": "code",
      "metadata": {
        "colab_type": "code",
        "id": "PTtUZT7PKpqG",
        "colab": {}
      },
      "source": [
        "def supervised_model():\n",
        "\tinputs = Input((IMG_SHAPE, IMG_SHAPE, 3))\n",
        "\tencoder_r.trainable = False\n",
        "\n",
        "\tr = encoder_r(inputs, training=False)\n",
        "\toutputs = Dense(5, activation='softmax')(r)\n",
        "\n",
        "\tsupervised_model = Model(inputs, outputs)\n",
        "  \n",
        "\treturn supervised_model\n"
      ],
      "execution_count": 0,
      "outputs": []
    },
    {
      "cell_type": "code",
      "metadata": {
        "id": "kQ4EC2KjKpNb",
        "colab_type": "code",
        "colab": {
          "base_uri": "https://localhost:8080/",
          "height": 235
        },
        "outputId": "1371905d-8e4e-40de-daf8-67ed4cc85c48"
      },
      "source": [
        "supervised_classifier = supervised_model()\n",
        "\n",
        "supervised_classifier.compile(optimizer=optimizer2,\n",
        "\tloss=tf.keras.losses.SparseCategoricalCrossentropy(),\n",
        "\tmetrics=[tf.keras.metrics.SparseCategoricalAccuracy()])\n",
        "\n",
        "es = tf.keras.callbacks.EarlyStopping(monitor=\"val_sparse_categorical_accuracy\", patience=2,\n",
        "\trestore_best_weights=True, verbose=2)\n",
        "\n",
        "wandb.init(project=\"scl\", entity=\"authors\", id='FSL_Adam_LRDECAY_AUG')\n",
        "\n",
        "start = time.time()\n",
        "supervised_classifier.fit(train_ds,\n",
        "\tvalidation_data=validation_ds,\n",
        "\tepochs=100,\n",
        "\tcallbacks=[WandbCallback(),es])\n",
        "end = time.time()\n",
        "wandb.log({\"training_time\": end - start})"
      ],
      "execution_count": 102,
      "outputs": [
        {
          "output_type": "display_data",
          "data": {
            "text/html": [
              "\n",
              "                Logging results to <a href=\"https://wandb.com\" target=\"_blank\">Weights & Biases</a> <a href=\"https://docs.wandb.com/integrations/jupyter.html\" target=\"_blank\">(Documentation)</a>.<br/>\n",
              "                Project page: <a href=\"https://app.wandb.ai/authors/scl\" target=\"_blank\">https://app.wandb.ai/authors/scl</a><br/>\n",
              "                Run page: <a href=\"https://app.wandb.ai/authors/scl/runs/FSL_Adam_LRDECAY_AUG\" target=\"_blank\">https://app.wandb.ai/authors/scl/runs/FSL_Adam_LRDECAY_AUG</a><br/>\n",
              "            "
            ],
            "text/plain": [
              "<IPython.core.display.HTML object>"
            ]
          },
          "metadata": {
            "tags": []
          }
        },
        {
          "output_type": "stream",
          "text": [
            "Epoch 1/100\n",
            "20/20 [==============================] - 3s 164ms/step - loss: 1.3532 - sparse_categorical_accuracy: 0.6952 - val_loss: 1.1685 - val_sparse_categorical_accuracy: 0.6480\n",
            "Epoch 2/100\n",
            "20/20 [==============================] - 3s 142ms/step - loss: 0.9519 - sparse_categorical_accuracy: 0.7520 - val_loss: 1.0018 - val_sparse_categorical_accuracy: 0.6560\n",
            "Epoch 3/100\n",
            "20/20 [==============================] - 3s 127ms/step - loss: 0.8075 - sparse_categorical_accuracy: 0.7544 - val_loss: 0.9555 - val_sparse_categorical_accuracy: 0.6480\n",
            "Epoch 4/100\n",
            "19/20 [===========================>..] - ETA: 0s - loss: 0.7699 - sparse_categorical_accuracy: 0.7508Restoring model weights from the end of the best epoch.\n",
            "20/20 [==============================] - 3s 143ms/step - loss: 0.7606 - sparse_categorical_accuracy: 0.7544 - val_loss: 0.9511 - val_sparse_categorical_accuracy: 0.6560\n",
            "Epoch 00004: early stopping\n"
          ],
          "name": "stdout"
        }
      ]
    },
    {
      "cell_type": "markdown",
      "metadata": {
        "id": "aP6JJWlyjNna",
        "colab_type": "text"
      },
      "source": [
        "# Saving Weights"
      ]
    },
    {
      "cell_type": "code",
      "metadata": {
        "id": "KrZpU5K_aj4s",
        "colab_type": "code",
        "colab": {}
      },
      "source": [
        "encoder_r.save_weights(\"SCL_encoder_Adam.h5\")"
      ],
      "execution_count": 0,
      "outputs": []
    },
    {
      "cell_type": "code",
      "metadata": {
        "id": "7nmjpxvti9wK",
        "colab_type": "code",
        "colab": {}
      },
      "source": [
        "projector_z.save_weights(\"SCL_projector_Adam.h5\")"
      ],
      "execution_count": 0,
      "outputs": []
    }
  ]
}
